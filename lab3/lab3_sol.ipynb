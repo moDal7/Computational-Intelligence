{
 "cells": [
  {
   "cell_type": "markdown",
   "metadata": {
    "pycharm": {
     "name": "#%% md\n"
    }
   },
   "source": [
    "Copyright **`(c)`** 2022 Giovanni Squillero `<squillero@polito.it>`  \n",
    "[`https://github.com/squillero/computational-intelligence`](https://github.com/squillero/computational-intelligence)  \n",
    "Free for personal or classroom use; see [`LICENSE.md`](https://github.com/squillero/computational-intelligence/blob/master/LICENSE.md) for details.  \n"
   ]
  },
  {
   "cell_type": "markdown",
   "metadata": {
    "pycharm": {
     "name": "#%%\n"
    }
   },
   "source": [
    "# Lab 3: Policy Search\n",
    "\n",
    "## Task\n",
    "\n",
    "Write agents able to play [*Nim*](https://en.wikipedia.org/wiki/Nim), with an arbitrary number of rows and an upper bound $k$ on the number of objects that can be removed in a turn (a.k.a., *subtraction game*).\n",
    "\n",
    "The player **taking the last object wins**.\n",
    "\n",
    "* Task3.1: An agent using fixed rules based on *nim-sum* (i.e., an *expert system*)\n",
    "* Task3.2: An agent using evolved rules\n",
    "* Task3.3: An agent using minmax\n",
    "* Task3.4: An agent using reinforcement learning\n",
    "\n",
    "## Instructions\n",
    "\n",
    "* Create the directory `lab3` inside the course repo \n",
    "* Put a `README.md` and your solution (all the files, code and auxiliary data if needed)\n",
    "\n",
    "## Notes\n",
    "\n",
    "* Working in group is not only allowed, but recommended (see: [Ubuntu](https://en.wikipedia.org/wiki/Ubuntu_philosophy) and [Cooperative Learning](https://files.eric.ed.gov/fulltext/EJ1096789.pdf)). Collaborations must be explicitly declared in the `README.md`.\n",
    "* [Yanking](https://www.emacswiki.org/emacs/KillingAndYanking) from the internet is allowed, but sources must be explicitly declared in the `README.md`.\n",
    "\n",
    "## Deadlines ([AoE](https://en.wikipedia.org/wiki/Anywhere_on_Earth))\n",
    "\n",
    "* Sunday, December 4th for Task3.1 and Task3.2\n",
    "* Sunday, December 11th for Task3.3 and Task3.4\n",
    "* Sunday, December 18th for all reviews"
   ]
  },
  {
   "cell_type": "code",
   "execution_count": 34,
   "metadata": {},
   "outputs": [],
   "source": [
    "# this section was provided by Professor Squillero\n",
    "\n",
    "import logging\n",
    "from collections import namedtuple\n",
    "import random\n",
    "from typing import Callable\n",
    "from copy import deepcopy\n",
    "from itertools import accumulate\n",
    "from operator import xor"
   ]
  },
  {
   "cell_type": "markdown",
   "metadata": {},
   "source": [
    "## The *Nim* and *Nimply* classes"
   ]
  },
  {
   "attachments": {},
   "cell_type": "markdown",
   "metadata": {},
   "source": [
    "Namedtuple that contains the instructions for a single move, it is the results of a single call of a \"strategy\" function."
   ]
  },
  {
   "cell_type": "code",
   "execution_count": 35,
   "metadata": {},
   "outputs": [],
   "source": [
    "# this section was provided by Professor Squillero\n",
    "\n",
    "Nimply = namedtuple(\"Nimply\", \"row, num_objects\")"
   ]
  },
  {
   "attachments": {},
   "cell_type": "markdown",
   "metadata": {},
   "source": [
    "The Nim class contains all methods and properties to instantiate a Nim game, and the nimming function to handle a ply and modify the board accordingly."
   ]
  },
  {
   "cell_type": "code",
   "execution_count": 36,
   "metadata": {},
   "outputs": [],
   "source": [
    "# this section was provided by Professor Squillero\n",
    "\n",
    "class Nim:\n",
    "    def __init__(self, num_rows: int, k: int = None) -> None:\n",
    "        self._rows = [i * 2 + 1 for i in range(num_rows)]\n",
    "        self._k = k\n",
    "\n",
    "    def __bool__(self):\n",
    "        return sum(self._rows) > 0\n",
    "\n",
    "    def __str__(self):\n",
    "        return \"<\" + \" \".join(str(_) for _ in self._rows) + \">\"\n",
    "\n",
    "    @property\n",
    "    def rows(self) -> tuple:\n",
    "        return tuple(self._rows)\n",
    "\n",
    "    @property\n",
    "    def k(self) -> int:\n",
    "        return self._k\n",
    "\n",
    "    def nimming(self, ply: Nimply) -> None:\n",
    "        row, num_objects = ply\n",
    "        assert self._rows[row] >= num_objects\n",
    "        assert self._k is None or num_objects <= self._k\n",
    "        self._rows[row] -= num_objects"
   ]
  },
  {
   "cell_type": "markdown",
   "metadata": {},
   "source": [
    "## Sample (and silly) startegies "
   ]
  },
  {
   "attachments": {},
   "cell_type": "markdown",
   "metadata": {},
   "source": [
    "A random strategy, making random moves."
   ]
  },
  {
   "cell_type": "code",
   "execution_count": 37,
   "metadata": {},
   "outputs": [],
   "source": [
    "# this section was provided by Professor Squillero\n",
    "logging.getLogger().setLevel(logging.INFO)\n",
    "\n",
    "def pure_random(state: Nim) -> Nimply:\n",
    "    row = random.choice([r for r, c in enumerate(state.rows) if c > 0])\n",
    "    num_objects = random.randint(1, state.rows[row])\n",
    "    return Nimply(row, num_objects)"
   ]
  },
  {
   "attachments": {},
   "cell_type": "markdown",
   "metadata": {},
   "source": [
    "A simple rule-based strategy that improves over the random making the winning move in case the possibiliy arises."
   ]
  },
  {
   "cell_type": "code",
   "execution_count": 38,
   "metadata": {},
   "outputs": [],
   "source": [
    "# this section was provided by Professor Squillero\n",
    "\n",
    "def gabriele(state: Nim) -> Nimply:\n",
    "    \"\"\"Pick always the maximum possible number of the lowest row\"\"\"\n",
    "    possible_moves = [(r, o) for r, c in enumerate(state.rows) for o in range(1, c + 1)]\n",
    "    return Nimply(*max(possible_moves, key=lambda m: (-m[0], m[1])))"
   ]
  },
  {
   "attachments": {},
   "cell_type": "markdown",
   "metadata": {},
   "source": [
    "Code for verifying the nim_sum value and a function that analyzes the conditions of the boards and outputs a dictionary with some info, that a strategy-making function may use."
   ]
  },
  {
   "cell_type": "code",
   "execution_count": 39,
   "metadata": {},
   "outputs": [],
   "source": [
    "def nim_sum(state: Nim) -> int:\n",
    "    *_, result = accumulate(state.rows, xor)\n",
    "    return result\n",
    "\n",
    "\n",
    "def cook_status(state: Nim) -> dict:\n",
    "    cooked = dict()\n",
    "    cooked[\"possible_moves\"] = [\n",
    "        (r, o) for r, c in enumerate(state.rows) for o in range(1, c + 1) if state.k is None or o <= state.k\n",
    "    ]\n",
    "    cooked[\"active_rows_number\"] = sum(o > 0 for o in state.rows)\n",
    "    cooked[\"shortest_row\"] = min((x for x in enumerate(state.rows) if x[1] > 0), key=lambda y: y[1])[0]\n",
    "    cooked[\"longest_row\"] = max((x for x in enumerate(state.rows)), key=lambda y: y[1])[0]\n",
    "    cooked[\"nim_sum\"] = nim_sum(state)\n",
    "\n",
    "    brute_force = list()\n",
    "    for m in cooked[\"possible_moves\"]:\n",
    "        tmp = deepcopy(state)\n",
    "        tmp.nimming(m)\n",
    "        brute_force.append((m, nim_sum(tmp)))\n",
    "    cooked[\"brute_force\"] = brute_force\n",
    "\n",
    "    return cooked"
   ]
  },
  {
   "attachments": {},
   "cell_type": "markdown",
   "metadata": {},
   "source": [
    "Optimal stratgy that relies on nim sum computation."
   ]
  },
  {
   "cell_type": "code",
   "execution_count": 40,
   "metadata": {},
   "outputs": [],
   "source": [
    "# this section was provided by Professor Squillero\n",
    "\n",
    "def optimal_strategy(state: Nim) -> Nimply:\n",
    "    data = cook_status(state)\n",
    "    return next((bf for bf in data[\"brute_force\"] if bf[1] == 0), random.choice(data[\"brute_force\"]))[0]"
   ]
  },
  {
   "attachments": {},
   "cell_type": "markdown",
   "metadata": {},
   "source": [
    "Random strategy enclosed in the make strategy method."
   ]
  },
  {
   "cell_type": "code",
   "execution_count": 41,
   "metadata": {},
   "outputs": [],
   "source": [
    "# this section was provided by Professor Squillero\n",
    "\n",
    "def make_strategy(genome: dict) -> Callable:\n",
    "    def evolvable(state: Nim) -> Nimply:\n",
    "        data = cook_status(state)\n",
    "\n",
    "        if random.random() < genome[\"p\"]:\n",
    "            ply = Nimply(data[\"shortest_row\"], random.randint(1, state.rows[data[\"shortest_row\"]]))\n",
    "        else:\n",
    "            ply = Nimply(data[\"longest_row\"], random.randint(1, state.rows[data[\"longest_row\"]]))\n",
    "\n",
    "        return ply\n",
    "\n",
    "    return evolvable"
   ]
  },
  {
   "attachments": {},
   "cell_type": "markdown",
   "metadata": {},
   "source": [
    "Evaluate function to compare two strategies one against the other."
   ]
  },
  {
   "cell_type": "code",
   "execution_count": 42,
   "metadata": {},
   "outputs": [],
   "source": [
    "\n",
    "def evaluate(strategy1: Callable, strategy2: Callable, size=11, num_matches=100) -> float:\n",
    "    players = (strategy1, strategy2)\n",
    "    won = 0\n",
    "\n",
    "    for m in range(num_matches):\n",
    "        nim = Nim(size)\n",
    "        player = 0\n",
    "        while nim:\n",
    "            ply = players[player](nim)\n",
    "            nim.nimming(ply)\n",
    "            player = 1 - player\n",
    "        if player == 1:\n",
    "            won += 1\n",
    "    return won / num_matches"
   ]
  },
  {
   "attachments": {},
   "cell_type": "markdown",
   "metadata": {},
   "source": [
    "Function to show visually the steps of the game."
   ]
  },
  {
   "cell_type": "code",
   "execution_count": 43,
   "metadata": {},
   "outputs": [],
   "source": [
    "def show_game(strategy1: Callable, strategy2: Callable, size=10) -> None:\n",
    "    players = (strategy1, strategy2)\n",
    "    won = 0\n",
    "\n",
    "    logging.getLogger().setLevel(logging.DEBUG)\n",
    "\n",
    "    nim = Nim(size)\n",
    "    logging.debug(f\"status: Initial board -> {nim}\")\n",
    "    player = 0\n",
    "    while nim:\n",
    "        ply = players[player](nim)\n",
    "        nim.nimming(ply)\n",
    "        logging.debug(f\"status: After player {player} -> {nim}\")\n",
    "        player = 1 - player\n",
    "    winner = 1 - player\n",
    "    logging.info(f\"status: Player {winner} won!\")\n",
    "    "
   ]
  },
  {
   "cell_type": "code",
   "execution_count": 44,
   "metadata": {},
   "outputs": [
    {
     "name": "stderr",
     "output_type": "stream",
     "text": [
      "INFO:root:'gabriele' strategy vs. pure random  -> 0.82\n",
      "DEBUG:root:status: Initial board -> <1 3 5 7 9 11 13 15 17 19>\n",
      "DEBUG:root:status: After player 0 -> <1 1 5 7 9 11 13 15 17 19>\n",
      "DEBUG:root:status: After player 1 -> <1 1 5 7 9 11 13 15 2 19>\n",
      "DEBUG:root:status: After player 0 -> <1 1 5 7 9 11 13 15 2 0>\n",
      "DEBUG:root:status: After player 1 -> <1 1 5 7 9 11 6 15 2 0>\n",
      "DEBUG:root:status: After player 0 -> <1 1 5 7 2 11 6 15 2 0>\n",
      "DEBUG:root:status: After player 1 -> <1 1 3 7 2 11 6 15 2 0>\n",
      "DEBUG:root:status: After player 0 -> <1 1 3 1 2 11 6 15 2 0>\n",
      "DEBUG:root:status: After player 1 -> <1 1 3 1 2 11 6 0 2 0>\n",
      "DEBUG:root:status: After player 0 -> <1 1 3 1 2 4 6 0 2 0>\n",
      "DEBUG:root:status: After player 1 -> <1 1 3 1 2 4 6 0 0 0>\n",
      "DEBUG:root:status: After player 0 -> <1 1 1 1 2 4 6 0 0 0>\n",
      "DEBUG:root:status: After player 1 -> <1 1 1 1 2 4 1 0 0 0>\n",
      "DEBUG:root:status: After player 0 -> <1 1 1 1 2 3 1 0 0 0>\n",
      "DEBUG:root:status: After player 1 -> <1 0 1 1 2 3 1 0 0 0>\n",
      "DEBUG:root:status: After player 0 -> <0 0 1 1 2 3 1 0 0 0>\n",
      "DEBUG:root:status: After player 1 -> <0 0 0 1 2 3 1 0 0 0>\n",
      "DEBUG:root:status: After player 0 -> <0 0 0 0 2 3 1 0 0 0>\n",
      "DEBUG:root:status: After player 1 -> <0 0 0 0 2 2 1 0 0 0>\n",
      "DEBUG:root:status: After player 0 -> <0 0 0 0 2 2 0 0 0 0>\n",
      "DEBUG:root:status: After player 1 -> <0 0 0 0 2 1 0 0 0 0>\n",
      "DEBUG:root:status: After player 0 -> <0 0 0 0 1 1 0 0 0 0>\n",
      "DEBUG:root:status: After player 1 -> <0 0 0 0 0 1 0 0 0 0>\n",
      "DEBUG:root:status: After player 0 -> <0 0 0 0 0 0 0 0 0 0>\n",
      "INFO:root:status: Player 0 won!\n"
     ]
    }
   ],
   "source": [
    "logging.info(f\"'gabriele' strategy vs. pure random  -> {evaluate(gabriele, pure_random)}\")\n",
    "show_game(optimal_strategy, optimal_strategy)"
   ]
  },
  {
   "attachments": {},
   "cell_type": "markdown",
   "metadata": {},
   "source": [
    "## 3.0 Agent with hard-coded rules\n",
    "Sub-optimal agent implementing an expert system through hard-coded rules, which aims to consistently defeat the pure-random strategy and the \"gabriele\" strategy, but will probably be consistently defeated by the optimal strategy and nim sum.\n",
    "I changed the terminology because speaking about hard-coded rules the term genome seems out of place, and parameters seems more appropriate."
   ]
  },
  {
   "cell_type": "code",
   "execution_count": 45,
   "metadata": {},
   "outputs": [],
   "source": [
    "def hard_coded(params: dict) -> Callable:\n",
    "    def evolvable(state: Nim) -> Nimply:\n",
    "        data = cook_status(state)\n",
    "\n",
    "        if data[\"active_rows_number\"] > 2: # if there are more than two active rows, empties one row\n",
    "            ply = Nimply(data[\"longest_row\"], 1)\n",
    "        elif data[\"active_rows_number\"] == 2: # if there are two active rows, leaves one element in the longest row\n",
    "            ply = Nimply(data[\"longest_row\"], state.rows[data[\"longest_row\"]]-1 if state.rows[data[\"longest_row\"]]>=2 else state.rows[data[\"longest_row\"]])\n",
    "        else:\n",
    "            ply = Nimply(data[\"longest_row\"], state.rows[data[\"longest_row\"]])\n",
    "        return ply\n",
    "\n",
    "    return evolvable"
   ]
  },
  {
   "cell_type": "code",
   "execution_count": 46,
   "metadata": {},
   "outputs": [
    {
     "name": "stderr",
     "output_type": "stream",
     "text": [
      "INFO:root: Hard coded strategy vs. 'gabriele' -> 1.0\n"
     ]
    }
   ],
   "source": [
    "params_empty = dict()\n",
    "logging.info(f\" Hard coded strategy vs. 'gabriele' -> {evaluate(hard_coded(params_empty), gabriele)}\")"
   ]
  },
  {
   "attachments": {},
   "cell_type": "markdown",
   "metadata": {},
   "source": [
    "## 3.1 Agent implementing nim sum, or Optimal Strategy\n",
    "Sub-optimal agent implementing an expert system through hard-coded rules, which aims to consistently defeat the pure-random strategy and the \"gabriele\" strategy, but will probably be consistently defeated by the optimal strategy and nim sum.\n",
    "I changed the terminology because speaking about hard-coded rules the term genome seems out of place, and parameters seems more appropriate."
   ]
  },
  {
   "cell_type": "code",
   "execution_count": 47,
   "metadata": {},
   "outputs": [
    {
     "name": "stderr",
     "output_type": "stream",
     "text": [
      "INFO:root: Optimal strategy w/ nim sum vs. Hard Coded -> 1.0\n",
      "INFO:root: Optimal strategy w/ nim sum vs. previous optimal strategy -> 1.0\n",
      "INFO:root: Previous optimal strategy vs. Optimal strategy w/ nim sum -> 1.0\n"
     ]
    }
   ],
   "source": [
    "def nim_sum_strategy(state: Nim) -> Nimply:\n",
    "    data = cook_status(state)\n",
    "    params_empty = dict()\n",
    "    nim_sum_positive_moves = [move for move in data[\"brute_force\"] if move[1] == 0]\n",
    "    if len(nim_sum_positive_moves) > 0:\n",
    "        ply = random.choice(nim_sum_positive_moves)[0]\n",
    "    else:\n",
    "        if data[\"active_rows_number\"] > 2: # if there are more than two active rows, empties one row\n",
    "            ply = Nimply(data[\"longest_row\"], 1)\n",
    "        elif data[\"active_rows_number\"] == 2: # if there are two active rows, leaves one element in the longest row\n",
    "            ply = Nimply(data[\"longest_row\"], state.rows[data[\"longest_row\"]]-1 if state.rows[data[\"longest_row\"]]>=2 else state.rows[data[\"longest_row\"]])\n",
    "        else:\n",
    "            ply = Nimply(data[\"longest_row\"], state.rows[data[\"longest_row\"]])\n",
    "    return ply\n",
    "\n",
    "params_empty = dict()\n",
    "logging.info(f\" Optimal strategy w/ nim sum vs. Hard Coded -> {evaluate(nim_sum_strategy, hard_coded(params_empty))}\")\n",
    "logging.info(f\" Optimal strategy w/ nim sum vs. previous optimal strategy -> {evaluate(nim_sum_strategy, optimal_strategy)}\")\n",
    "logging.info(f\" Previous optimal strategy vs. Optimal strategy w/ nim sum -> {evaluate(optimal_strategy, nim_sum_strategy)}\")\n"
   ]
  },
  {
   "attachments": {},
   "cell_type": "markdown",
   "metadata": {},
   "source": [
    "## 3.2 Agent with evolved rules\n",
    "\n",
    "Sub-optimal agent implementing evolving rules through the implementation of a genetic algorithm.\n",
    "This first strategy is a \"placeholder\" as it mimics our hard-coded expert system but sometimes proposing straight-up \"suicidal\" moves.\n",
    "Especially in genome[2] we expect the value 1 to dominate.\n",
    "Using this system we'll set up the elements of our GA."
   ]
  },
  {
   "cell_type": "code",
   "execution_count": 48,
   "metadata": {},
   "outputs": [],
   "source": [
    "def evolving_strategy(genome: list) -> Callable:\n",
    "    def evolvable(state: Nim) -> Nimply:\n",
    "        data = cook_status(state)\n",
    "        \n",
    "        # early game policy\n",
    "        if genome[0] == 0 & data[\"active_rows_number\"] > 2:\n",
    "            ply = Nimply(data[\"longest_row\"], 1)\n",
    "        elif genome[0] == 1 & data[\"active_rows_number\"] > 2:\n",
    "            ply = Nimply(data[\"longest_row\"], state.rows[data[\"longest_row\"]])\n",
    "        elif genome[0] == 2 & data[\"active_rows_number\"] > 2:\n",
    "            ply = Nimply(data[\"shortest_row\"], state.rows[data[\"shortest_row\"]])\n",
    "\n",
    "        # \"mid\" game policy\n",
    "        if genome[1] == 0 & data[\"active_rows_number\"] == 2:\n",
    "            ply = Nimply(data[\"longest_row\"], 1)\n",
    "        elif genome[1] == 1 & data[\"active_rows_number\"] == 2:\n",
    "            ply = Nimply(data[\"longest_row\"], state.rows[data[\"longest_row\"]])\n",
    "        elif genome[1] == 2 & data[\"active_rows_number\"] == 2:\n",
    "            ply = Nimply(data[\"shortest_row\"], state.rows[data[\"shortest_row\"]]-1 if state.rows[data[\"shortest_row\"]]>=2 else 1)\n",
    "\n",
    "        # end game policy\n",
    "        if genome[2] == 0 & data[\"active_rows_number\"] == 1:\n",
    "            ply = Nimply(data[\"longest_row\"], 1)\n",
    "        elif genome[2] == 1 & data[\"active_rows_number\"] == 1:\n",
    "            ply = Nimply(data[\"longest_row\"], state.rows[data[\"longest_row\"]])\n",
    "        else:\n",
    "            ply = Nimply(data[\"longest_row\"], state.rows[data[\"longest_row\"]]-1 if state.rows[data[\"longest_row\"]]>=2 else 1)\n",
    "        \n",
    "        return ply\n",
    "    \n",
    "    return evolvable"
   ]
  },
  {
   "cell_type": "code",
   "execution_count": 49,
   "metadata": {},
   "outputs": [],
   "source": [
    "def tournament(population, tournament_size=2):\n",
    "    return max(random.choices(population, k=tournament_size), key=lambda i: i[1])\n",
    "\n",
    "def crossover(gene1, gene2, genome_size):\n",
    "    cut = random.randint(0, genome_size-1) #i have 3 rules\n",
    "    return gene1[0][:cut] + gene2[0][cut:]\n",
    "\n",
    "def mutation(gene, genome_size):\n",
    "    point = random.randint(0, genome_size)\n",
    "    return gene[:point] + [random.randint(0, 2)] + gene[point + 1 :]\n",
    "\n",
    "def fitness1(genome): # pure random fitness\n",
    "    return evaluate(evolving_strategy(genome), pure_random, num_matches=50)\n",
    "\n",
    "def fitness2(genome): # gabriele fitness\n",
    "    return evaluate(evolving_strategy(genome), gabriele, num_matches=50)\n",
    "\n",
    "def fitness3(genome): # hard-coded fitness\n",
    "    return evaluate(evolving_strategy(genome), gabriele, num_matches=50)"
   ]
  },
  {
   "cell_type": "code",
   "execution_count": 50,
   "metadata": {},
   "outputs": [],
   "source": [
    "def genetic_algorithm(genome: list):\n",
    "    \n",
    "    # genetic algorithm parameters\n",
    "    generations = 30\n",
    "    population_size = 10\n",
    "    offspring_size = 5\n",
    "    genome_size=len(genome)\n",
    "    probs = [0.3, 0.4, 0.5]\n",
    "    \n",
    "    fitness = fitness1\n",
    "\n",
    "    # checks for plateaus in fitness improvement\n",
    "    plateau_count = 0 \n",
    "    population = [list([i, fitness(i)]) for i in ([random.choice([0,1,2]) for _ in range(len(genome))] for _ in range(population_size))]\n",
    "\n",
    "    # create fitness log\n",
    "    fitness_log = [(0, i[1]) for i in population]\n",
    "    \n",
    "    # evolutionary algorithm\n",
    "    for g in range(generations):\n",
    "        offspring = list()\n",
    "        \n",
    "        for i in range(offspring_size): \n",
    "            #decide the probability of crossover/mutation\n",
    "            \n",
    "            prob=probs[g//10]\n",
    "            if random.random() < prob:\n",
    "                p = tournament(population)\n",
    "                o = mutation(p[0],genome_size)\n",
    "            else:\n",
    "                p1 = tournament(population)\n",
    "                p2 = tournament(population)\n",
    "                o = crossover(p1, p2, genome_size)\n",
    "            f = fitness(o)\n",
    "            fitness_log.append((g + 1, f))\n",
    "            offspring.append(list([o, f]))\n",
    "        population += offspring\n",
    "        population = sorted(population, key=lambda i: i[1], reverse=True)[:population_size]\n",
    "        # check if we have reached a plateau\n",
    "        fitness_step = 0\n",
    "        if max(f[1] for f in fitness_log if f[0] == g + 1) <= max(f[1] for f in fitness_log if f[0] == g): plateau_count += 1\n",
    "        else: plateau_count = 0\n",
    "        if plateau_count == 20 & fitness_step==0:\n",
    "            fitness = fitness2\n",
    "            fitness_step += 1\n",
    "        elif plateau_count == 20 & fitness_step == 1:\n",
    "            fitness = fitness3\n",
    "            fitness_step += 1\n",
    "        elif plateau_count == 20 & fitness_step == 2:\n",
    "            break\n",
    "    logging.info(f\"The best individual is: {population[0]}\")\n",
    "    return population[0][0]"
   ]
  },
  {
   "cell_type": "code",
   "execution_count": 51,
   "metadata": {},
   "outputs": [
    {
     "name": "stderr",
     "output_type": "stream",
     "text": [
      "INFO:root:The best individual is: [[0, 0, 2], 1.0]\n",
      "INFO:root:Final genome: [0, 0, 2]\n",
      "INFO:root:Evolving strategy vs. pure random --> 0.56\n",
      "INFO:root:Evolving strategy vs. gabriele --> 1.0\n",
      "INFO:root:Evolving strategy vs. hard coded --> 0.0\n"
     ]
    }
   ],
   "source": [
    "genome = [0, 0, 0]\n",
    "\n",
    "genome = genetic_algorithm(genome)\n",
    "logging.info(f\"Final genome: {genome}\")\n",
    "logging.info(f\"Evolving strategy vs. pure random --> {evaluate(evolving_strategy(genome), pure_random)}\")\n",
    "logging.info(f\"Evolving strategy vs. gabriele --> {evaluate(evolving_strategy(genome), gabriele)}\")\n",
    "logging.info(f\"Evolving strategy vs. hard coded --> {evaluate(evolving_strategy(genome), hard_coded(dict()))}\")"
   ]
  },
  {
   "cell_type": "code",
   "execution_count": 52,
   "metadata": {},
   "outputs": [
    {
     "name": "stderr",
     "output_type": "stream",
     "text": [
      "INFO:root:Evolving strategy vs. pure random --> 0.5\n",
      "INFO:root:Evolving strategy vs. gabriele --> 1.0\n",
      "INFO:root:Evolving strategy vs. hard coded --> 0.0\n",
      "INFO:root:Evolving strategy vs. Nim sum --> 0.0\n"
     ]
    }
   ],
   "source": [
    "logging.info(f\"Evolving strategy vs. pure random --> {evaluate(evolving_strategy(genome), pure_random)}\")\n",
    "logging.info(f\"Evolving strategy vs. gabriele --> {evaluate(evolving_strategy(genome), gabriele)}\")\n",
    "logging.info(f\"Evolving strategy vs. hard coded --> {evaluate(evolving_strategy(genome), hard_coded(dict()))}\")\n",
    "logging.info(f\"Evolving strategy vs. Nim sum --> {evaluate(evolving_strategy(genome), nim_sum_strategy)}\")"
   ]
  },
  {
   "attachments": {},
   "cell_type": "markdown",
   "metadata": {},
   "source": [
    "## 3.3 Agent implementing min-max\n",
    "Sub-optimal agent implementing evolving rules through the implementation of a genetic algorithm."
   ]
  },
  {
   "cell_type": "code",
   "execution_count": 53,
   "metadata": {},
   "outputs": [],
   "source": [
    "def minmax(state: Nim, is_maximizing, depth=0, bound=5):\n",
    "\n",
    "    def evaluate_minmax(state: Nim, is_maximizing):\n",
    "        if sum(o>0 for o in state.rows) == 0 or depth>bound:\n",
    "            return -1 if is_maximizing else 1\n",
    "        \n",
    "    if (score := evaluate_minmax(state, is_maximizing)) is not None:\n",
    "        return score\n",
    "    \n",
    "    return (max if is_maximizing else min)(\n",
    "        minmax(new_state, is_maximizing=not is_maximizing, depth=depth+1)\n",
    "        for new_state in possible_new_states(state)\n",
    "    )\n",
    "\n",
    "def extract_move(state1: Nim, state2: Nim) -> Nimply:\n",
    "    for index, row in enumerate(state2.rows):\n",
    "        if state1.rows[index] != state2.rows[index]:\n",
    "            return Nimply(index, state2.rows[index] - state1.rows[index])\n",
    "\n",
    "def possible_new_states(state: Nim):\n",
    "    data=cook_status(state)\n",
    "    new_states = list()\n",
    "    for move in data[\"possible_moves\"]:\n",
    "        tmp=deepcopy(state)\n",
    "        tmp.nimming(move)\n",
    "        new_states.append(tmp)                    \n",
    "    return new_states\n"
   ]
  },
  {
   "cell_type": "code",
   "execution_count": 54,
   "metadata": {},
   "outputs": [],
   "source": [
    "def minmax_strategy(state: Nim) -> Nimply:\n",
    "    tmp=deepcopy(state)\n",
    "    for new_state in possible_new_states(state):\n",
    "        score = minmax(new_state, is_maximizing=False)\n",
    "        \n",
    "        if score > 0:\n",
    "            break \n",
    "        \n",
    "    return extract_move(new_state,tmp)"
   ]
  },
  {
   "cell_type": "code",
   "execution_count": 55,
   "metadata": {},
   "outputs": [
    {
     "name": "stderr",
     "output_type": "stream",
     "text": [
      "INFO:root:min-max strategy vs. hard coded strategy --> 1.0\n"
     ]
    }
   ],
   "source": [
    "logging.getLogger().setLevel(logging.DEBUG)\n",
    "logging.info(f\"min-max strategy vs. hard coded strategy --> {evaluate(minmax_strategy, hard_coded(params_empty),  4, 5)}\")\n",
    "#show_game(minmax_strategy,  nim_sum_strategy, 4)"
   ]
  },
  {
   "cell_type": "code",
   "execution_count": 56,
   "metadata": {},
   "outputs": [],
   "source": [
    "def minmax_alpha_beta(state: Nim, is_maximizing, depth=0, bound=5, alpha=-1, beta=1):\n",
    "\n",
    "    def evaluate_minmax(state: Nim, is_maximizing):\n",
    "        if sum(o>0 for o in state.rows) == 0 or depth>bound:\n",
    "            return -1 if is_maximizing else 1\n",
    "        \n",
    "    if (score := evaluate_minmax(state, is_maximizing)) is not None:\n",
    "        return score\n",
    "    \n",
    "    scores = []\n",
    "    for new_state in possible_new_states(state):\n",
    "        score = minmax(new_state, is_maximizing=not is_maximizing, depth=depth+1)\n",
    "        scores.append(score)\n",
    "        if is_maximizing:\n",
    "            alpha = max(alpha, score)\n",
    "        else:\n",
    "            beta = min(beta, score)\n",
    "        if beta <= alpha:\n",
    "            break\n",
    "    \n",
    "    return max(scores) if is_maximizing else min(scores)\n"
   ]
  },
  {
   "cell_type": "code",
   "execution_count": 57,
   "metadata": {},
   "outputs": [],
   "source": [
    "def minmax_ab_strategy(state: Nim) -> Nimply:\n",
    "    tmp=deepcopy(state)\n",
    "    for new_state in possible_new_states(state):\n",
    "        score = minmax_alpha_beta(new_state, is_maximizing=False)\n",
    "        \n",
    "        if score > 0:\n",
    "            break \n",
    "        \n",
    "    return extract_move(new_state,tmp)"
   ]
  },
  {
   "cell_type": "code",
   "execution_count": 58,
   "metadata": {},
   "outputs": [
    {
     "name": "stderr",
     "output_type": "stream",
     "text": [
      "INFO:root:min-max strategy vs. hard coded strategy --> 1.0\n"
     ]
    }
   ],
   "source": [
    "logging.getLogger().setLevel(logging.DEBUG)\n",
    "logging.info(f\"min-max strategy vs. hard coded strategy --> {evaluate(minmax_ab_strategy, hard_coded(params_empty), 4, 10)}\")"
   ]
  },
  {
   "attachments": {},
   "cell_type": "markdown",
   "metadata": {},
   "source": [
    "## 3.4 Agent implementing reinforcement learning techniques"
   ]
  },
  {
   "cell_type": "code",
   "execution_count": 59,
   "metadata": {},
   "outputs": [],
   "source": [
    "import numpy as np\n",
    "from tqdm import tqdm\n",
    "\n",
    "global Q, prevState, prevAction\n",
    "\n",
    "Q = {}\n",
    "#prevState = prevAction = None\n",
    "\n",
    "def q_learning(state: Nim, learn=False, alpha = 0.1, gamma = 1, epsilon=0.05) -> Nimply:\n",
    "\n",
    "    #Q is a function f: State x Action -> R and is internally represented as a Map.\n",
    "\n",
    "    #Alpha is the learning rate and determines to what extent the newly acquired \n",
    "    #information will override the old information\n",
    "\n",
    "    #Gamma is the discount rate and determines the importance of future rewards\n",
    "\n",
    "    #Epsilon serves as the exploration rate and determines the probability \n",
    "    #that the agent, in the learning process, will randomly select an action\n",
    "\n",
    "    WIN_REWARD, LOSS_REWARD = 1.0, -1.0\n",
    "\n",
    "    data = cook_status(state) \n",
    "\n",
    "    #If a given state is not in our hashmap, we will add all possible state,\n",
    "    #action pair and initialize the values by randomly sampling from the uniform(0,1)\n",
    "    #(so we can avoid having two actions which attain the maximum Q-value)\n",
    "    def makeKey(state):\n",
    "        possActions = [Nimply(elem[0], elem[1]) for elem in data[\"possible_moves\"]]\n",
    "        someAction = possActions[0]\n",
    "\n",
    "        if (state.rows, someAction) not in Q:\n",
    "            for i in possActions:\n",
    "                if (state.rows, i) not in Q:\n",
    "                    Q[(state.rows, i)] = np.random.uniform(0.0,0.01)\n",
    "    \n",
    "    def choose_ply(state):\n",
    "        makeKey(state)\n",
    "        possActions = [Nimply(elem[0], elem[1]) for elem in data[\"possible_moves\"]]\n",
    "        if np.random.random() > epsilon:\n",
    "            #Returns the action associated with the max Q value\n",
    "            #global Q\n",
    "        \n",
    "            qVal = [Q[(state.rows, a)] for a in possActions]\n",
    "            return possActions[np.argmax(qVal)]\n",
    "        else:\n",
    "            #Selects the action at random \n",
    "            return random.choice(possActions)\n",
    "        \n",
    "    def peek(state, ply):\n",
    "        tmp = deepcopy(state)\n",
    "        tmp.nimming(ply)\n",
    "         \n",
    "        return tmp\n",
    "    \n",
    "    #Updates the Q-table as specified by the standard Q-learning algorithm\n",
    "    def updateQ(state):\n",
    "        makeKey(state)\n",
    "        currAction = choose_ply(state)\n",
    "            \n",
    "        next_state = peek(state, currAction)\n",
    "        if  sum(o > 0 for o in next_state.rows)==1:\n",
    "            reward = LOSS_REWARD\n",
    "            Q[(state.rows, currAction)] += \\\n",
    "                alpha * reward - \\\n",
    "                Q[(state.rows, currAction)]\n",
    "        elif sum(o > 0 for o in next_state.rows)>1:\n",
    "            reward = 0.03\n",
    "            future_data = cook_status(next_state)     \n",
    "            maxQ = max([Q[(state.rows, a)] for a in future_data[\"possible_moves\"]])\n",
    "            Q[(state.rows, currAction)] += \\\n",
    "                alpha * (reward + (gamma * maxQ) - \\\n",
    "                Q[(state.rows, currAction)])\n",
    "        elif sum(o > 0 for o in next_state.rows)==0:\n",
    "            reward = WIN_REWARD\n",
    "            Q[(state.rows, currAction)] += \\\n",
    "                alpha * reward - \\\n",
    "                Q[(state.rows, currAction)]\n",
    "\n",
    "                \n",
    "        return currAction\n",
    "\n",
    "    move = choose_ply(state)\n",
    "    if learn:\n",
    "        move = updateQ(state)\n",
    "        \n",
    "    return move\n",
    "\n",
    "def learn(q_learning: Callable, epochs=30, size=5):\n",
    "    players = (q_learning, pure_random)\n",
    "    learning_log = list()\n",
    "    \n",
    "    \n",
    "    for e in tqdm(range(epochs)):\n",
    "        #if e > epochs/3:\n",
    "        #    players = (q_learning, nim_sum_strategy)\n",
    "        won = 0\n",
    "        num_matches = 4000\n",
    "        for m in range(num_matches):\n",
    "            nim = Nim(size)\n",
    "            player = 0\n",
    "            while nim:\n",
    "                ply = players[player](nim) if player==1 else players[player](nim, True)\n",
    "                nim.nimming(ply)\n",
    "                player = 1 - player\n",
    "            if player == 1:\n",
    "                won += 1\n",
    "        \n",
    "        learning_log.append(won/num_matches*100)\n",
    "\n",
    "    return learning_log\n",
    "\n",
    "    "
   ]
  },
  {
   "cell_type": "code",
   "execution_count": 60,
   "metadata": {},
   "outputs": [
    {
     "name": "stderr",
     "output_type": "stream",
     "text": [
      "INFO:root:q-learning strategy vs. pure random strategy --> 0.506\n",
      "INFO:root:q-learning strategy  vs. hard coded strategy --> 0.086\n",
      "INFO:root:q-learning strategy  vs. nim sum strategy strategy --> 0.0\n"
     ]
    },
    {
     "data": {
      "image/png": "[encoded data removed]",
      "text/plain": [
       "<Figure size 640x480 with 1 Axes>"
      ]
     },
     "metadata": {},
     "output_type": "display_data"
    }
   ],
   "source": [
    "import matplotlib.pyplot as plt\n",
    "#learning_log = learn(q_learning)\n",
    "\n",
    "\n",
    "plt.plot(range(len(learning_log)),learning_log)\n",
    "plt.title(\"Nim - Reinforcement Learning Training log\")\n",
    "plt.xlabel(\"Epoch\")\n",
    "plt.ylabel(\"Win '%' over 1000 games\")\n",
    "\n",
    "logging.info(f\"q-learning strategy vs. pure random strategy --> {evaluate(q_learning, pure_random, 5, 1000)}\")\n",
    "logging.info(f\"q-learning strategy  vs. hard coded strategy --> {evaluate(q_learning, hard_coded(params=params_empty), 5, 1000)}\")\n",
    "logging.info(f\"q-learning strategy  vs. nim sum strategy strategy --> {evaluate(q_learning, nim_sum_strategy, 5, 1000)}\")"
   ]
  }
 ],
 "metadata": {
  "kernelspec": {
   "display_name": "Python 3",
   "language": "python",
   "name": "python3"
  },
  "language_info": {
   "codemirror_mode": {
    "name": "ipython",
    "version": 3
   },
   "file_extension": ".py",
   "mimetype": "text/x-python",
   "name": "python",
   "nbconvert_exporter": "python",
   "pygments_lexer": "ipython3",
   "version": "3.10.4"
  },
  "vscode": {
   "interpreter": {
    "hash": "aee8b7b246df8f9039afb4144a1f6fd8d2ca17a180786b69acc140d282b71a49"
   }
  }
 },
 "nbformat": 4,
 "nbformat_minor": 2
}
