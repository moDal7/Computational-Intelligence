{
 "cells": [
  {
   "cell_type": "markdown",
   "metadata": {},
   "source": [
    "# Evolutionary Algorithms Lab - Set Covering Problem"
   ]
  },
  {
   "cell_type": "code",
   "execution_count": 220,
   "metadata": {},
   "outputs": [],
   "source": [
    "import logging\n",
    "import numpy as np\n",
    "from tqdm.notebook import tqdm\n",
    "from matplotlib import pyplot as plt\n",
    "from matplotlib import cm\n",
    "import random\n",
    "\n",
    "logging.basicConfig(\n",
    "    format=\"[%(asctime)s] %(levelname)s: %(message)s\",\n",
    "    datefmt=\"%H:%M:%S\",\n",
    "    level=logging.INFO,\n",
    ")\n",
    "\n",
    "N_VALUES = [5, 10, 20, 100, 500, 1000]\n",
    "SEED = 42\n",
    "\n",
    "def problem(N, seed=SEED):\n",
    "    random.seed(seed)\n",
    "    return [\n",
    "        list(set(random.randint(0, N - 1) for n in range(random.randint(N // 5, N // 2))))\n",
    "        for n in range(random.randint(N, N * 5))\n",
    "    ]"
   ]
  },
  {
   "cell_type": "code",
   "execution_count": 221,
   "metadata": {},
   "outputs": [
    {
     "name": "stderr",
     "output_type": "stream",
     "text": [
      "/Library/Frameworks/Python.framework/Versions/3.10/lib/python3.10/site-packages/tqdm/auto.py:22: TqdmWarning: IProgress not found. Please update jupyter and ipywidgets. See https://ipywidgets.readthedocs.io/en/stable/user_install.html\n",
      "  from .autonotebook import tqdm as notebook_tqdm\n"
     ]
    }
   ],
   "source": [
    "\n",
    "\n",
    "from torch import rand\n",
    "\n",
    "\n",
    "def problem(N, seed=SEED):\n",
    "    random.seed(seed)\n",
    "    return [\n",
    "        list(set(random.randint(0, N - 1) for n in range(random.randint(N // 5, N // 2))))\n",
    "        for n in range(random.randint(N, N * 5))\n",
    "    ]\n",
    "\n",
    "def goal_test(N, solution):\n",
    "    set_sol = set([item for sublist in solution for item in sublist])\n",
    "    goal = set(range(N))\n",
    "    return set_sol == goal\n",
    "\n",
    "def fitness_eval(solutions):\n",
    "    weight = []\n",
    "    for sol in solutions:\n",
    "        w = sum(len(_) for _ in sol)\n",
    "        weight.append(w)\n",
    "\n",
    "    return weight\n",
    "\n",
    "#the issue is here somewhere over the rainbow\n",
    "def offspring_gen(parent, all_lists, λ, σ, N):\n",
    "\n",
    "    offspring = [parent]\n",
    "    for l in range(λ - 1):\n",
    "        new_offspring = parent\n",
    "        safety_counter = 0\n",
    "        mutation_factor = 1 + round(abs(np.random.normal(0, σ)))\n",
    "\n",
    "        for mut in range(mutation_factor):\n",
    "            new_offspring.pop(random.randint(0, abs(len(new_offspring)-1)))\n",
    "            random_list = random.choice(all_lists)\n",
    "            while not goal_test(N, new_offspring): \n",
    "                if random_list not in new_offspring and random_list not in parent:\n",
    "                    new_offspring.append(random_list)\n",
    "                else:\n",
    "                    safety_counter+=1\n",
    "                    random_list = random.choice(all_lists)\n",
    "     \n",
    "                if not safety_counter < len(all_lists):\n",
    "                    new_offspring = parent\n",
    "                    continue\n",
    "\n",
    "        offspring.append(new_offspring)\n",
    "    \n",
    "    return offspring\n"
   ]
  },
  {
   "cell_type": "code",
   "execution_count": 222,
   "metadata": {},
   "outputs": [],
   "source": [
    "def plus_lambda_ea(population, all_lists, λ, σ, n):\n",
    "    population = offspring_gen(population, all_lists, λ, σ, n)\n",
    "    \n",
    "    for n in range(10 // λ):\n",
    "\n",
    "        fitness = fitness_eval(population)\n",
    "        parent = population[np.argmin(fitness)]\n",
    "        population = offspring_gen(parent, all_lists, λ, σ, n)\n",
    "    \n",
    "    fitness = fitness_eval(population)\n",
    "    final_sol = population[np.argmin(fitness)]\n",
    "\n",
    "    return final_sol"
   ]
  },
  {
   "cell_type": "code",
   "execution_count": 223,
   "metadata": {},
   "outputs": [
    {
     "name": "stderr",
     "output_type": "stream",
     "text": [
      "[23:50:04] INFO: start element [[1], [2], [4], [0, 1], [0], [2, 4], [3]]\n"
     ]
    }
   ],
   "source": [
    "# 1 + λ ES\n",
    "\n",
    "λ = 5\n",
    "σ = 0.05\n",
    "\n",
    "for n in N_VALUES:\n",
    "    all_lists = problem(n, SEED)\n",
    "    random_list = random.choice(all_lists)\n",
    "    start_element = []\n",
    "\n",
    "    while not goal_test(n, start_element):\n",
    "        if random_list not in start_element:\n",
    "            start_element.append(random_list)\n",
    "        random_list = random.choice(all_lists)\n",
    "    if n < 20:    \n",
    "        logging.info(f\"start element {start_element}\")\n",
    "    sol = plus_lambda_ea(start_element, all_lists, λ, σ, n)\n",
    "\n",
    "    logging.info(f\"N = {n}, best solution: w={sum(len(_) for _ in sol)} (bloat={(sum(len(_) for _ in sol)-n)/n*100:.0f}%)\")"
   ]
  }
 ],
 "metadata": {
  "kernelspec": {
   "display_name": "Python 3.10.4 64-bit",
   "language": "python",
   "name": "python3"
  },
  "language_info": {
   "codemirror_mode": {
    "name": "ipython",
    "version": 3
   },
   "file_extension": ".py",
   "mimetype": "text/x-python",
   "name": "python",
   "nbconvert_exporter": "python",
   "pygments_lexer": "ipython3",
   "version": "3.10.4"
  },
  "orig_nbformat": 4,
  "vscode": {
   "interpreter": {
    "hash": "aee8b7b246df8f9039afb4144a1f6fd8d2ca17a180786b69acc140d282b71a49"
   }
  }
 },
 "nbformat": 4,
 "nbformat_minor": 2
}
