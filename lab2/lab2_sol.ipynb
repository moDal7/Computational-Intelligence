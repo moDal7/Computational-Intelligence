{
 "cells": [
  {
   "cell_type": "markdown",
   "metadata": {},
   "source": [
    "# Evolutionary Algorithms Lab - Set Covering Problem"
   ]
  },
  {
   "cell_type": "markdown",
   "metadata": {},
   "source": [
    "General Problem start."
   ]
  },
  {
   "cell_type": "code",
   "execution_count": 309,
   "metadata": {},
   "outputs": [],
   "source": [
    "import logging\n",
    "import numpy as np\n",
    "from tqdm.notebook import tqdm\n",
    "from matplotlib import pyplot as plt\n",
    "from matplotlib import cm\n",
    "import random\n",
    "\n",
    "logging.basicConfig(\n",
    "    format=\"[%(asctime)s] %(levelname)s: %(message)s\",\n",
    "    datefmt=\"%H:%M:%S\",\n",
    "    level=logging.INFO,\n",
    ")\n",
    "\n",
    "N_VALUES = [5, 10, 20, 100, 500, 1000]\n",
    "SEED = 42\n",
    "\n",
    "def problem(N, seed=SEED):\n",
    "    random.seed(seed)\n",
    "    return [\n",
    "        list(set(random.randint(0, N - 1) for n in range(random.randint(N // 5, N // 2))))\n",
    "        for n in range(random.randint(N, N * 5))\n",
    "    ]"
   ]
  },
  {
   "cell_type": "markdown",
   "metadata": {},
   "source": [
    "Functions to use in all the algorithms."
   ]
  },
  {
   "cell_type": "code",
   "execution_count": 310,
   "metadata": {},
   "outputs": [],
   "source": [
    "def goal_test(N, solution):\n",
    "    solution = [x for l in solution for x in l]\n",
    "    sol = tuple(solution)\n",
    "    set_sol = set(elem for elem in solution)\n",
    "    goal = set(range(N))\n",
    "    return set_sol == goal\n",
    "\n",
    "def fitness_eval(solution):\n",
    "        w = sum(len(_) for _ in solution)\n",
    "        return w\n",
    "\n",
    "def tweak_sol(solution, all_lists, sigma, N):\n",
    "    new_solution = set(solution)\n",
    "    normal = random.randint(0, sigma)\n",
    "\n",
    "    if random.random() < 0.1:\n",
    "        new_solution = set()\n",
    "        while not goal_test(N, new_solution):\n",
    "            new_solution.add(random.choice(list(all_lists - new_solution)))\n",
    "            \n",
    "    for mutations in range(normal):\n",
    "        if random.random() > 0.5:\n",
    "            new_solution.remove(random.choice(list(new_solution)))\n",
    "            new_solution.add(random.choice(list(all_lists - new_solution)))\n",
    "\n",
    "    return new_solution"
   ]
  },
  {
   "cell_type": "markdown",
   "metadata": {},
   "source": [
    "1+1 EA algorithm"
   ]
  },
  {
   "cell_type": "code",
   "execution_count": 311,
   "metadata": {},
   "outputs": [],
   "source": [
    "def plus1_ea(solution, all_lists, steps, sigma, n):\n",
    "    \n",
    "    history = []\n",
    "    for steps in range(steps):\n",
    "        max_tweak = 2000\n",
    "        tweaks = 0\n",
    "        candidate = tweak_sol(solution, all_lists, sigma, n)\n",
    "        while not goal_test(n, candidate) and max_tweak > tweaks:\n",
    "            candidate = tweak_sol(solution, all_lists, sigma, n)\n",
    "            tweaks += 1\n",
    "        \n",
    "        if fitness_eval(candidate) < fitness_eval(solution):\n",
    "            \n",
    "            solution = candidate\n",
    "\n",
    "        history.append(fitness_eval(solution))\n",
    "\n",
    "    return solution, history\n"
   ]
  },
  {
   "cell_type": "code",
   "execution_count": 318,
   "metadata": {},
   "outputs": [
    {
     "name": "stderr",
     "output_type": "stream",
     "text": [
      "[23:58:56] INFO: N = 5, best solution: w=5 (bloat=0%)\n",
      "[23:58:57] INFO: N = 10, best solution: w=10 (bloat=0%)\n",
      "[23:58:58] INFO: N = 20, best solution: w=24 (bloat=20%)\n",
      "[23:59:02] INFO: N = 100, best solution: w=208 (bloat=108%)\n",
      "[23:59:24] INFO: N = 500, best solution: w=1605 (bloat=221%)\n",
      "[00:00:44] INFO: N = 1000, best solution: w=3822 (bloat=282%)\n"
     ]
    },
    {
     "data": {
      "image/png": "[encoded data removed]",
      "text/plain": [
       "<Figure size 1500x600 with 1 Axes>"
      ]
     },
     "metadata": {},
     "output_type": "display_data"
    }
   ],
   "source": [
    "SIGMA = 1\n",
    "STEPS = 10000\n",
    "\n",
    "for num in N_VALUES:\n",
    "    all_lists = set(tuple(element) for element in problem(num, SEED))\n",
    "    \n",
    "    random_list = random.choice(list(all_lists))\n",
    "    \n",
    "    start_element = set()\n",
    "    while not goal_test(num, start_element):\n",
    "      start_element.add(random.choice(list(all_lists - start_element)))\n",
    "      \n",
    "  \n",
    "    sol, history = plus1_ea(start_element, all_lists, STEPS, SIGMA, num)\n",
    "    \n",
    "    if num == 1000:\n",
    "      plt.figure(figsize=(15, 6))\n",
    "      plt.scatter(range(STEPS), history, marker=\".\")\n",
    "    \n",
    "    logging.info(f\"N = {num}, best solution: w={sum(len(_) for _ in sol)} (bloat={(sum(len(_) for _ in sol)-num)/num*100:.0f}%)\")\n",
    "    \n",
    "           "
   ]
  },
  {
   "cell_type": "markdown",
   "metadata": {},
   "source": [
    " 1 + λ Evolution algorithm."
   ]
  },
  {
   "cell_type": "code",
   "execution_count": 316,
   "metadata": {},
   "outputs": [],
   "source": [
    "# 1 + λ ES\n",
    "\n",
    "def plusLambda_ea(solution, all_lists, steps, offspring_size, sigma, n):\n",
    "    \n",
    "    history = []\n",
    "    for steps in range(steps):\n",
    "        \n",
    "        offspring = offspring_gen(solution, all_lists, offspring_size, sigma, n)\n",
    "        evals = []\n",
    "        for offs in offspring:\n",
    "            evals.append(fitness_eval(offs))\n",
    "        solution = offspring[np.argmin(evals)]\n",
    "        history.append(fitness_eval(solution))\n",
    "\n",
    "    return solution, history\n",
    "\n",
    "\n",
    "\n",
    "def offspring_gen(parent, all_lists, offspring_size, sigma, N):\n",
    "    offspring = [parent]\n",
    "    for l in range(offspring_size):\n",
    "        max_tweak = 2000\n",
    "        tweaks = 0\n",
    "        new_offspring = tweak_sol(parent, all_lists, sigma, N)\n",
    "        \n",
    "        while not goal_test(N, new_offspring) and max_tweak > tweaks:\n",
    "            new_offspring = tweak_sol(parent, all_lists, sigma, N)\n",
    "            tweaks += 1\n",
    "        offspring.append(new_offspring)\n",
    "    return tuple(offspring)\n"
   ]
  },
  {
   "cell_type": "code",
   "execution_count": 317,
   "metadata": {},
   "outputs": [
    {
     "name": "stderr",
     "output_type": "stream",
     "text": [
      "[23:51:33] INFO: N = 5, best solution: w=5 (bloat=0%)\n",
      "[23:51:35] INFO: N = 10, best solution: w=10 (bloat=0%)\n",
      "[23:51:37] INFO: N = 20, best solution: w=24 (bloat=20%)\n",
      "[23:51:50] INFO: N = 100, best solution: w=208 (bloat=108%)\n",
      "[23:53:45] INFO: N = 500, best solution: w=1504 (bloat=201%)\n",
      "[23:58:46] INFO: N = 1000, best solution: w=3534 (bloat=253%)\n"
     ]
    },
    {
     "data": {
      "image/png": "[encoded data removed]",
      "text/plain": [
       "<Figure size 1500x600 with 1 Axes>"
      ]
     },
     "metadata": {},
     "output_type": "display_data"
    }
   ],
   "source": [
    "SIGMA = 1\n",
    "STEPS = 10000\n",
    "OFFSPRING_SIZE = 5\n",
    "\n",
    "for num in N_VALUES:\n",
    "    all_lists = set(tuple(element) for element in problem(num, SEED))\n",
    "    \n",
    "    random_list = random.choice(list(all_lists))\n",
    "    \n",
    "    start_element = set()\n",
    "    while not goal_test(num, start_element):\n",
    "      start_element.add(random.choice(list(all_lists - start_element)))\n",
    "      \n",
    "    \n",
    "    #test = offspring_gen(start_element, all_lists, OFFSPRING_SIZE, SIGMA, num)\n",
    "    #logging.info(f\"test {test}\")\n",
    "    sol, history = plusLambda_ea(start_element, all_lists, STEPS, OFFSPRING_SIZE, SIGMA, num)\n",
    "    \n",
    "    if num == 1000:\n",
    "      plt.figure(figsize=(15, 6))\n",
    "      plt.scatter(range(STEPS), history, marker=\".\")\n",
    "    \n",
    "    logging.info(f\"N = {num}, best solution: w={sum(len(_) for _ in sol)} (bloat={(sum(len(_) for _ in sol)-num)/num*100:.0f}%)\")"
   ]
  }
 ],
 "metadata": {
  "kernelspec": {
   "display_name": "Python 3.10.4 64-bit",
   "language": "python",
   "name": "python3"
  },
  "language_info": {
   "codemirror_mode": {
    "name": "ipython",
    "version": 3
   },
   "file_extension": ".py",
   "mimetype": "text/x-python",
   "name": "python",
   "nbconvert_exporter": "python",
   "pygments_lexer": "ipython3",
   "version": "3.10.4"
  },
  "orig_nbformat": 4,
  "vscode": {
   "interpreter": {
    "hash": "aee8b7b246df8f9039afb4144a1f6fd8d2ca17a180786b69acc140d282b71a49"
   }
  }
 },
 "nbformat": 4,
 "nbformat_minor": 2
}
