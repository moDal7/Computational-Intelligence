{
 "cells": [
  {
   "cell_type": "markdown",
   "metadata": {},
   "source": [
    "# Evolutionary Algorithms Lab - Set Covering Problem"
   ]
  },
  {
   "cell_type": "markdown",
   "metadata": {},
   "source": [
    "Same set covering problem as for laboratory 1.\n",
    "Problem start and imports."
   ]
  },
  {
   "cell_type": "code",
   "execution_count": 52,
   "metadata": {},
   "outputs": [],
   "source": [
    "import logging\n",
    "import numpy as np\n",
    "from tqdm.notebook import tqdm\n",
    "from matplotlib import pyplot as plt\n",
    "from matplotlib import cm\n",
    "import random\n",
    "\n",
    "logging.basicConfig(\n",
    "    format=\"[%(asctime)s] %(levelname)s: %(message)s\",\n",
    "    datefmt=\"%H:%M:%S\",\n",
    "    level=logging.INFO,\n",
    ")\n",
    "\n",
    "N_VALUES = [5, 10, 20, 100, 500, 1000]\n",
    "SEED = 42\n",
    "\n",
    "def problem(N, seed=SEED):\n",
    "    random.seed(seed)\n",
    "    return [\n",
    "        list(set(random.randint(0, N - 1) for n in range(random.randint(N // 5, N // 2))))\n",
    "        for n in range(random.randint(N, N * 5))\n",
    "    ]"
   ]
  },
  {
   "cell_type": "markdown",
   "metadata": {},
   "source": [
    "Recurring functions to use in all the algorithms.\n",
    "The fitness evaluation just returns the weight of a single solution.\n",
    "The tweak function uses a sigma which is not a conventional variance of a normal distribution, but more of a variable to use to get a random number of lists to change in the solution to get the mutated one.\n",
    "For each mutation there is 50% change that the list doesn't get changed, and for every solution that goes into mutation there is a 10% chance that the solution gets substituted completely by a new valid solution drawn randomly from the pool of lists."
   ]
  },
  {
   "cell_type": "code",
   "execution_count": 53,
   "metadata": {},
   "outputs": [],
   "source": [
    "def goal_test(N, solution):\n",
    "    solution = [x for l in solution for x in l]\n",
    "    set_sol = set(elem for elem in solution)\n",
    "    goal = set(range(N))\n",
    "    return set_sol == goal\n",
    "\n",
    "def fitness_eval(solution):\n",
    "        w = sum(len(_) for _ in solution)\n",
    "        return w\n",
    "\n",
    "def tweak_sol(solution, all_lists, sigma, N):\n",
    "    new_solution = set(solution)\n",
    "    normal = random.randint(0, round(sigma))\n",
    "\n",
    "    if random.random() < 0.1:\n",
    "        new_solution = set()\n",
    "        while not goal_test(N, new_solution):\n",
    "            new_solution.add(random.choice(list(all_lists - new_solution)))\n",
    "            \n",
    "    for mutations in range(normal):\n",
    "        if random.random() > 0.5:\n",
    "            new_solution.remove(random.choice(list(new_solution)))\n",
    "            new_solution.add(random.choice(list(all_lists - new_solution)))\n",
    "\n",
    "    return new_solution"
   ]
  },
  {
   "cell_type": "markdown",
   "metadata": {},
   "source": [
    "# 1+1 EA algorithm\n",
    "Basic 1+1 evolutionary algorithm, each parent generates an offspring, and then competes with it."
   ]
  },
  {
   "cell_type": "code",
   "execution_count": 54,
   "metadata": {},
   "outputs": [],
   "source": [
    "def plus1_ea(solution, all_lists, steps, sigma, n):\n",
    "    \n",
    "    history = []\n",
    "    for steps in range(steps):\n",
    "        max_tweak = 2000\n",
    "        tweaks = 0\n",
    "        candidate = tweak_sol(solution, all_lists, sigma, n)\n",
    "        while not goal_test(n, candidate) and max_tweak > tweaks:\n",
    "            candidate = tweak_sol(solution, all_lists, sigma, n)\n",
    "            tweaks += 1\n",
    "        \n",
    "        if fitness_eval(candidate) < fitness_eval(solution):\n",
    "            \n",
    "            solution = candidate\n",
    "\n",
    "        history.append(fitness_eval(solution))\n",
    "\n",
    "    return solution, history\n"
   ]
  },
  {
   "cell_type": "code",
   "execution_count": 55,
   "metadata": {},
   "outputs": [
    {
     "name": "stderr",
     "output_type": "stream",
     "text": [
      "[18:04:12] INFO: N = 5, best solution: w=5 (bloat=0%)\n",
      "[18:04:12] INFO: N = 10, best solution: w=10 (bloat=0%)\n",
      "[18:04:12] INFO: N = 20, best solution: w=24 (bloat=20%)\n",
      "[18:04:13] INFO: N = 100, best solution: w=211 (bloat=111%)\n",
      "[18:04:19] INFO: N = 500, best solution: w=1663 (bloat=233%)\n",
      "[18:04:36] INFO: N = 1000, best solution: w=4367 (bloat=337%)\n"
     ]
    },
    {
     "data": {
      "image/png": "[encoded data removed]",
      "text/plain": [
       "<Figure size 1500x600 with 1 Axes>"
      ]
     },
     "metadata": {},
     "output_type": "display_data"
    }
   ],
   "source": [
    "SIGMA = 1\n",
    "STEPS = 1000\n",
    "\n",
    "for num in N_VALUES:\n",
    "    all_lists = set(tuple(element) for element in problem(num, SEED))\n",
    "    \n",
    "    random_list = random.choice(list(all_lists))\n",
    "    \n",
    "    start_element = set()\n",
    "    while not goal_test(num, start_element):\n",
    "      start_element.add(random.choice(list(all_lists - start_element)))\n",
    "      \n",
    "  \n",
    "    sol, history = plus1_ea(start_element, all_lists, STEPS, SIGMA, num)\n",
    "    \n",
    "    if num == 1000:\n",
    "      plt.figure(figsize=(15, 6))\n",
    "      plt.scatter(range(STEPS), history, marker=\".\")\n",
    "    \n",
    "    logging.info(f\"N = {num}, best solution: w={sum(len(_) for _ in sol)} (bloat={(sum(len(_) for _ in sol)-num)/num*100:.0f}%)\")\n",
    "    \n",
    "           "
   ]
  },
  {
   "cell_type": "markdown",
   "metadata": {},
   "source": [
    "# 1 + λ Evolution algorithm.\n",
    "The parent, or the best individual of the previous generation, creates a population of λ offsprings and then competes with them. "
   ]
  },
  {
   "cell_type": "code",
   "execution_count": 56,
   "metadata": {},
   "outputs": [],
   "source": [
    "# 1 + λ ES\n",
    "\n",
    "def plusLambda_ea(solution, all_lists, steps, offspring_size, sigma, n):\n",
    "    \n",
    "    history = []\n",
    "    for steps in range(steps):\n",
    "        \n",
    "        offspring = offspring_gen(solution, all_lists, offspring_size, sigma, n)\n",
    "        evals = []\n",
    "        for offs in offspring:\n",
    "            evals.append(fitness_eval(offs))\n",
    "        solution = offspring[np.argmin(evals)]\n",
    "        history.append(fitness_eval(solution))\n",
    "\n",
    "    return solution, history\n",
    "\n",
    "\n",
    "\n",
    "def offspring_gen(parent, all_lists, offspring_size, sigma, N):\n",
    "    offspring = [parent]\n",
    "    for l in range(offspring_size):\n",
    "        max_tweak = 2000\n",
    "        tweaks = 0\n",
    "        new_offspring = tweak_sol(parent, all_lists, sigma, N)\n",
    "        \n",
    "        while not goal_test(N, new_offspring) and max_tweak > tweaks:\n",
    "            new_offspring = tweak_sol(parent, all_lists, sigma, N)\n",
    "            tweaks += 1\n",
    "        offspring.append(new_offspring)\n",
    "    return tuple(offspring)\n"
   ]
  },
  {
   "cell_type": "code",
   "execution_count": 57,
   "metadata": {},
   "outputs": [
    {
     "name": "stderr",
     "output_type": "stream",
     "text": [
      "[18:06:28] INFO: N = 5, best solution: w=5 (bloat=0%)\n",
      "[18:06:29] INFO: N = 10, best solution: w=10 (bloat=0%)\n",
      "[18:06:31] INFO: N = 20, best solution: w=24 (bloat=20%)\n",
      "[18:06:52] INFO: N = 100, best solution: w=208 (bloat=108%)\n",
      "[18:08:05] INFO: N = 500, best solution: w=1464 (bloat=193%)\n",
      "[18:12:42] INFO: N = 1000, best solution: w=3705 (bloat=270%)\n"
     ]
    },
    {
     "data": {
      "image/png": "[encoded data removed]",
      "text/plain": [
       "<Figure size 1500x600 with 1 Axes>"
      ]
     },
     "metadata": {},
     "output_type": "display_data"
    }
   ],
   "source": [
    "SIGMA = 1\n",
    "STEPS = 500\n",
    "OFFSPRING_SIZE = 40\n",
    "\n",
    "for num in N_VALUES:\n",
    "    all_lists = set(tuple(element) for element in problem(num, SEED))\n",
    "    \n",
    "    random_list = random.choice(list(all_lists))\n",
    "    \n",
    "    start_element = set()\n",
    "    while not goal_test(num, start_element):\n",
    "      start_element.add(random.choice(list(all_lists - start_element)))\n",
    "      \n",
    "    sol, history = plusLambda_ea(start_element, all_lists, STEPS, OFFSPRING_SIZE, SIGMA, num)\n",
    "    \n",
    "    if num == 1000:\n",
    "      plt.figure(figsize=(15, 6))\n",
    "      plt.scatter(range(STEPS), history, marker=\".\")\n",
    "    \n",
    "    logging.info(f\"N = {num}, best solution: w={sum(len(_) for _ in sol)} (bloat={(sum(len(_) for _ in sol)-num)/num*100:.0f}%)\")"
   ]
  },
  {
   "cell_type": "markdown",
   "metadata": {},
   "source": [
    "# 1, λ Evolution algorithm.\n",
    "The parent, or the best individual of the previous generation, creates a population of λ offsprings and then gets discarded. Then the best of the offspring is the parent of the next generation. "
   ]
  },
  {
   "cell_type": "code",
   "execution_count": 58,
   "metadata": {},
   "outputs": [],
   "source": [
    "def commaLambda_ea(solution, all_lists, steps, offspring_size, sigma, n):\n",
    "    \n",
    "    history = []\n",
    "    for steps in range(steps):\n",
    "        \n",
    "        offspring = offspring_gen_comma(solution, all_lists, offspring_size, sigma, n)\n",
    "        evals = []\n",
    "        for offs in offspring:\n",
    "            evals.append(fitness_eval(offs))\n",
    "        solution = offspring[np.argmin(evals)]\n",
    "        history.append(fitness_eval(solution))\n",
    "\n",
    "    return solution, history\n",
    "\n",
    "def offspring_gen_comma(parent, all_lists, offspring_size, sigma, N):\n",
    "    offspring = []\n",
    "    for l in range(offspring_size):\n",
    "        max_tweak = 2000\n",
    "        tweaks = 0\n",
    "        new_offspring = tweak_sol(parent, all_lists, sigma, N)\n",
    "        \n",
    "        while not goal_test(N, new_offspring) and max_tweak > tweaks:\n",
    "            new_offspring = tweak_sol(parent, all_lists, sigma, N)\n",
    "            tweaks += 1\n",
    "        offspring.append(new_offspring)\n",
    "    return tuple(offspring)"
   ]
  },
  {
   "cell_type": "code",
   "execution_count": 59,
   "metadata": {},
   "outputs": [
    {
     "name": "stderr",
     "output_type": "stream",
     "text": [
      "[18:13:04] INFO: N = 5, best solution: w=5 (bloat=0%)\n",
      "[18:13:06] INFO: N = 10, best solution: w=10 (bloat=0%)\n",
      "[18:13:10] INFO: N = 20, best solution: w=24 (bloat=20%)\n",
      "[18:13:22] INFO: N = 100, best solution: w=185 (bloat=85%)\n",
      "[18:14:44] INFO: N = 500, best solution: w=1589 (bloat=218%)\n",
      "[18:18:30] INFO: N = 1000, best solution: w=3613 (bloat=261%)\n"
     ]
    },
    {
     "data": {
      "image/png": "[encoded data removed]",
      "text/plain": [
       "<Figure size 1500x600 with 1 Axes>"
      ]
     },
     "metadata": {},
     "output_type": "display_data"
    }
   ],
   "source": [
    "SIGMA = 2\n",
    "STEPS = 500\n",
    "OFFSPRING_SIZE = 40\n",
    "\n",
    "for num in N_VALUES:\n",
    "    all_lists = set(tuple(element) for element in problem(num, SEED))\n",
    "    \n",
    "    random_list = random.choice(list(all_lists))\n",
    "    \n",
    "    start_element = set()\n",
    "    while not goal_test(num, start_element):\n",
    "      start_element.add(random.choice(list(all_lists - start_element)))\n",
    "      \n",
    "    sol, history = commaLambda_ea(start_element, all_lists, STEPS, OFFSPRING_SIZE, SIGMA, num)\n",
    "    \n",
    "    logging.info(f\"N = {num}, best solution: w={sum(len(_) for _ in sol)} (bloat={(sum(len(_) for _ in sol)-num)/num*100:.0f}%)\")\n",
    "    \n",
    "    if num == 1000:\n",
    "      plt.figure(figsize=(15, 6))\n",
    "      plt.scatter(range(STEPS), history, marker=\".\")\n",
    "    \n",
    "    "
   ]
  },
  {
   "cell_type": "markdown",
   "metadata": {},
   "source": [
    "# 1, λ Adaptive Evoution algorithm.\n",
    "The parent, or the best individual of the previous generation, creates a population of λ offsprings and then gets discarded. Then the best of the offspring is the parent of the next generation. It is equal to the previous version except for an adaptation of the \"variance\" every 100 generations, based on the fact that the fitness doesn't improve since the 10 last generations."
   ]
  },
  {
   "cell_type": "code",
   "execution_count": 60,
   "metadata": {},
   "outputs": [
    {
     "name": "stderr",
     "output_type": "stream",
     "text": [
      "[18:18:33] INFO: N = 5, best solution: w=5 (bloat=0%)\n",
      "[18:18:36] INFO: N = 10, best solution: w=10 (bloat=0%)\n",
      "[18:18:40] INFO: N = 20, best solution: w=24 (bloat=20%)\n",
      "[18:18:55] INFO: N = 100, best solution: w=208 (bloat=108%)\n",
      "[18:20:50] INFO: N = 500, best solution: w=1466 (bloat=193%)\n",
      "[18:23:06] INFO: N = 1000, best solution: w=3806 (bloat=281%)\n"
     ]
    },
    {
     "data": {
      "image/png": "[encoded data removed]",
      "text/plain": [
       "<Figure size 1500x600 with 1 Axes>"
      ]
     },
     "metadata": {},
     "output_type": "display_data"
    }
   ],
   "source": [
    "def commaLambda_adaptive_ea(solution, all_lists, steps, offspring_size, sigma, n):\n",
    "    \n",
    "    history = []\n",
    "    for steps in range(steps):\n",
    "        \n",
    "        offspring = offspring_gen_comma(solution, all_lists, offspring_size, sigma, n)\n",
    "        evals = []\n",
    "        for offs in offspring:\n",
    "            evals.append(fitness_eval(offs))\n",
    "        solution = offspring[np.argmin(evals)]\n",
    "        history.append(fitness_eval(solution))\n",
    "\n",
    "        if (steps + 1) % 100 == 0:\n",
    "          if history[-1] == history[-10]:\n",
    "            sigma /= 0.5\n",
    "          else:\n",
    "            sigma *= 0.5\n",
    "        \n",
    "\n",
    "\n",
    "    return solution, history\n",
    "\n",
    "SIGMA = 1\n",
    "STEPS = 500\n",
    "OFFSPRING_SIZE = 40\n",
    "\n",
    "for num in N_VALUES:\n",
    "    all_lists = set(tuple(element) for element in problem(num, SEED))\n",
    "    \n",
    "    random_list = random.choice(list(all_lists))\n",
    "    \n",
    "    start_element = set()\n",
    "    while not goal_test(num, start_element):\n",
    "      start_element.add(random.choice(list(all_lists - start_element)))\n",
    "      \n",
    "    sol, history = commaLambda_adaptive_ea(start_element, all_lists, STEPS, OFFSPRING_SIZE, SIGMA, num)\n",
    "    \n",
    "    if num == 1000:\n",
    "      plt.figure(figsize=(15, 6))\n",
    "      plt.scatter(range(STEPS), history, marker=\".\")\n",
    "    \n",
    "    logging.info(f\"N = {num}, best solution: w={sum(len(_) for _ in sol)} (bloat={(sum(len(_) for _ in sol)-num)/num*100:.0f}%)\")"
   ]
  },
  {
   "cell_type": "markdown",
   "metadata": {},
   "source": [
    "# mu rho / lambda evolution strategy.\n",
    "In this algorith both crossover and mutations are used.\n",
    "The parents are a population of mu."
   ]
  },
  {
   "cell_type": "code",
   "execution_count": 47,
   "metadata": {},
   "outputs": [],
   "source": [
    "def crossover(elem1, elem2):\n",
    "    el1 = list(elem1)\n",
    "    el2 = list(elem2)\n",
    "    result_list1 = []\n",
    "    result_list2 = []\n",
    "\n",
    "    cut = random.randint(0, min(len(elem1), len(elem2)))\n",
    "    \n",
    "    result_list1.append(el2[cut::])\n",
    "    result_list1.append(el1[0:cut])\n",
    "    result_list2.append(el1[cut::])\n",
    "    result_list2.append(el2[0:cut])\n",
    "    result1 = tuple(element for element in result_list1)\n",
    "    result2 = tuple(element for element in result_list2)\n",
    "    return result1, result2\n",
    "\n",
    "def offspring_gen_mu(parents, all_lists, offspring_size, sigma, rho, N):\n",
    "    for r in range(rho):\n",
    "        parent1 = random.choice(list(parents))\n",
    "        parents.remove(parent1)\n",
    "        parent2 = random.choice(list(parents))\n",
    "        parents.remove(parent2)\n",
    "        parent1, parent2 = crossover(parent1, parent2)\n",
    "        parents.append(parent1)\n",
    "        parents.append(parent2)\n",
    "\n",
    "    offspring = [parents]\n",
    "    \n",
    "    for l in range(offspring_size-len(parents)):\n",
    "        max_tweak = 2000\n",
    "        tweaks = 0\n",
    "        parent = tuple((element) for element in random.choice(parents))\n",
    "        new_offspring = tweak_sol(parent, all_lists, sigma, N)\n",
    "        \n",
    "        while not goal_test(N, new_offspring) and max_tweak > tweaks:\n",
    "            new_offspring = tweak_sol(parent, all_lists, sigma, N)\n",
    "            tweaks += 1\n",
    "        offspring.append(new_offspring)\n",
    "    return tuple(offspring)\n"
   ]
  },
  {
   "cell_type": "code",
   "execution_count": 48,
   "metadata": {},
   "outputs": [],
   "source": [
    "def mupluslambda_ea(solution, all_lists, steps, offspring_size, sigma, mu, rho, n):\n",
    "    history = []\n",
    "    \n",
    "    for steps in range(steps):\n",
    "        \n",
    "        offspring = offspring_gen_mu(solution, all_lists, offspring_size, sigma, rho, n)\n",
    "        evals = []\n",
    "        for offs in offspring:\n",
    "            evals.append(fitness_eval(offs))\n",
    "\n",
    "        sort_offspring =[x for _, x in sorted(zip(evals, offspring), key=lambda pair: pair[0])]\n",
    "\n",
    "        solution = sort_offspring[0:mu]\n",
    "\n",
    "        history.append(min(evals))\n",
    "\n",
    "             \n",
    "    solution = offspring[np.argmin(evals)]\n",
    "    return solution, history"
   ]
  },
  {
   "cell_type": "code",
   "execution_count": 51,
   "metadata": {},
   "outputs": [
    {
     "ename": "TypeError",
     "evalue": "unhashable type: 'list'",
     "output_type": "error",
     "traceback": [
      "\u001b[0;31m---------------------------------------------------------------------------\u001b[0m",
      "\u001b[0;31mTypeError\u001b[0m                                 Traceback (most recent call last)",
      "Cell \u001b[0;32mIn [51], line 17\u001b[0m\n\u001b[1;32m     15\u001b[0m         start_element\u001b[39m.\u001b[39madd(random\u001b[39m.\u001b[39mchoice(\u001b[39mlist\u001b[39m(all_lists \u001b[39m-\u001b[39m start_element)))\n\u001b[1;32m     16\u001b[0m     start\u001b[39m.\u001b[39mappend(start_element)\n\u001b[0;32m---> 17\u001b[0m sol, history \u001b[39m=\u001b[39m mupluslambda_ea(start, all_lists, STEPS, OFFSPRING_SIZE, SIGMA, MU, RHO, num)\n\u001b[1;32m     19\u001b[0m \u001b[39mif\u001b[39;00m num \u001b[39m==\u001b[39m \u001b[39m1000\u001b[39m:\n\u001b[1;32m     20\u001b[0m   plt\u001b[39m.\u001b[39mfigure(figsize\u001b[39m=\u001b[39m(\u001b[39m15\u001b[39m, \u001b[39m6\u001b[39m))\n",
      "Cell \u001b[0;32mIn [48], line 6\u001b[0m, in \u001b[0;36mmupluslambda_ea\u001b[0;34m(solution, all_lists, steps, offspring_size, sigma, mu, rho, n)\u001b[0m\n\u001b[1;32m      2\u001b[0m history \u001b[39m=\u001b[39m []\n\u001b[1;32m      4\u001b[0m \u001b[39mfor\u001b[39;00m steps \u001b[39min\u001b[39;00m \u001b[39mrange\u001b[39m(steps):\n\u001b[0;32m----> 6\u001b[0m     offspring \u001b[39m=\u001b[39m offspring_gen_mu(solution, all_lists, offspring_size, sigma, rho, n)\n\u001b[1;32m      7\u001b[0m     evals \u001b[39m=\u001b[39m []\n\u001b[1;32m      8\u001b[0m     \u001b[39mfor\u001b[39;00m offs \u001b[39min\u001b[39;00m offspring:\n",
      "Cell \u001b[0;32mIn [47], line 33\u001b[0m, in \u001b[0;36moffspring_gen_mu\u001b[0;34m(parents, all_lists, offspring_size, sigma, rho, N)\u001b[0m\n\u001b[1;32m     31\u001b[0m tweaks \u001b[39m=\u001b[39m \u001b[39m0\u001b[39m\n\u001b[1;32m     32\u001b[0m parent \u001b[39m=\u001b[39m \u001b[39mtuple\u001b[39m((element) \u001b[39mfor\u001b[39;00m element \u001b[39min\u001b[39;00m random\u001b[39m.\u001b[39mchoice(parents))\n\u001b[0;32m---> 33\u001b[0m new_offspring \u001b[39m=\u001b[39m tweak_sol(parent, all_lists, sigma, N)\n\u001b[1;32m     35\u001b[0m \u001b[39mwhile\u001b[39;00m \u001b[39mnot\u001b[39;00m goal_test(N, new_offspring) \u001b[39mand\u001b[39;00m max_tweak \u001b[39m>\u001b[39m tweaks:\n\u001b[1;32m     36\u001b[0m     new_offspring \u001b[39m=\u001b[39m tweak_sol(parent, all_lists, sigma, N)\n",
      "Cell \u001b[0;32mIn [50], line 12\u001b[0m, in \u001b[0;36mtweak_sol\u001b[0;34m(solution, all_lists, sigma, N)\u001b[0m\n\u001b[1;32m     11\u001b[0m \u001b[39mdef\u001b[39;00m \u001b[39mtweak_sol\u001b[39m(solution, all_lists, sigma, N):\n\u001b[0;32m---> 12\u001b[0m     new_solution \u001b[39m=\u001b[39m \u001b[39mset\u001b[39;49m(solution)\n\u001b[1;32m     13\u001b[0m     normal \u001b[39m=\u001b[39m random\u001b[39m.\u001b[39mrandint(\u001b[39m0\u001b[39m, \u001b[39mround\u001b[39m(sigma))\n\u001b[1;32m     15\u001b[0m     \u001b[39mif\u001b[39;00m random\u001b[39m.\u001b[39mrandom() \u001b[39m<\u001b[39m \u001b[39m0.1\u001b[39m:\n",
      "\u001b[0;31mTypeError\u001b[0m: unhashable type: 'list'"
     ]
    }
   ],
   "source": [
    "SIGMA = 1\n",
    "STEPS = 200\n",
    "OFFSPRING_SIZE = 40\n",
    "MU = 4\n",
    "RHO = 2\n",
    "\n",
    "for num in N_VALUES:\n",
    "    all_lists = set(tuple(element) for element in problem(num, SEED))\n",
    "    \n",
    "    random_list = random.choice(list(all_lists))\n",
    "    start = []\n",
    "    start_element = set()\n",
    "    while not len(start) == MU:\n",
    "        while not goal_test(num, start_element):\n",
    "            start_element.add(random.choice(list(all_lists - start_element)))\n",
    "        start.append(start_element)\n",
    "    sol, history = mupluslambda_ea(start, all_lists, STEPS, OFFSPRING_SIZE, SIGMA, MU, RHO, num)\n",
    "    \n",
    "    if num == 1000:\n",
    "      plt.figure(figsize=(15, 6))\n",
    "      plt.scatter(range(STEPS), history, marker=\".\")\n",
    "    \n",
    "    logging.info(f\"N = {num}, best solution: w={sum(len(_) for _ in sol)} (bloat={(sum(len(_) for _ in sol)-num)/num*100:.0f}%)\")"
   ]
  }
 ],
 "metadata": {
  "kernelspec": {
   "display_name": "Python 3.10.4 64-bit",
   "language": "python",
   "name": "python3"
  },
  "language_info": {
   "codemirror_mode": {
    "name": "ipython",
    "version": 3
   },
   "file_extension": ".py",
   "mimetype": "text/x-python",
   "name": "python",
   "nbconvert_exporter": "python",
   "pygments_lexer": "ipython3",
   "version": "3.10.4 (v3.10.4:9d38120e33, Mar 23 2022, 17:29:05) [Clang 13.0.0 (clang-1300.0.29.30)]"
  },
  "orig_nbformat": 4,
  "vscode": {
   "interpreter": {
    "hash": "aee8b7b246df8f9039afb4144a1f6fd8d2ca17a180786b69acc140d282b71a49"
   }
  }
 },
 "nbformat": 4,
 "nbformat_minor": 2
}
