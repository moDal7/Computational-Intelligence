{
 "cells": [
  {
   "cell_type": "markdown",
   "metadata": {},
   "source": [
    "### Problem generator\n",
    "Problem generator as given by professor, with default N values."
   ]
  },
  {
   "cell_type": "code",
   "execution_count": 18,
   "metadata": {},
   "outputs": [],
   "source": [
    "N_VALUES = [5, 10, 20, 100, 500, 1000]\n",
    "SEED = 42\n",
    "\n",
    "import random\n",
    "\n",
    "def problem(N, seed=None):\n",
    "    random.seed(seed)\n",
    "    return [\n",
    "        list(set(random.randint(0, N - 1) for n in range(random.randint(N // 5, N // 2))))\n",
    "        for n in range(random.randint(N, N * 5))\n",
    "    ]"
   ]
  },
  {
   "cell_type": "markdown",
   "metadata": {},
   "source": [
    "### Greedy solution\n",
    "Greed solution as given by professor."
   ]
  },
  {
   "cell_type": "code",
   "execution_count": 19,
   "metadata": {},
   "outputs": [],
   "source": [
    "import logging\n",
    "\n",
    "def greedy(N):\n",
    "    goal = set(range(N))\n",
    "    covered = set()\n",
    "    solution = list()\n",
    "    nodes = 0\n",
    "    all_lists = sorted(problem(N, seed=SEED), key=lambda l: len(l))\n",
    "    while goal != covered:\n",
    "        x = all_lists.pop(0)\n",
    "        nodes+=1\n",
    "        if not set(x) < covered:\n",
    "            solution.append(x)\n",
    "            covered |= set(x)\n",
    "\n",
    "    logging.info(\n",
    "        f\"Greedy solution for N={N}: w={sum(len(_) for _ in solution)} (bloat={(sum(len(_) for _ in solution)-N)/N*100:.0f}%, Nodes visited: {nodes})\"\n",
    "    )\n",
    "    logging.debug(f\"{solution}\")"
   ]
  },
  {
   "cell_type": "code",
   "execution_count": 20,
   "metadata": {},
   "outputs": [
    {
     "name": "stderr",
     "output_type": "stream",
     "text": [
      "INFO:root:Greedy solution for N=5: w=5 (bloat=0%, Nodes visited: 13)\n",
      "INFO:root:Greedy solution for N=10: w=13 (bloat=30%, Nodes visited: 14)\n",
      "INFO:root:Greedy solution for N=20: w=46 (bloat=130%, Nodes visited: 14)\n",
      "INFO:root:Greedy solution for N=100: w=332 (bloat=232%, Nodes visited: 23)\n",
      "INFO:root:Greedy solution for N=500: w=2162 (bloat=332%, Nodes visited: 28)\n",
      "INFO:root:Greedy solution for N=1000: w=4652 (bloat=365%, Nodes visited: 27)\n"
     ]
    }
   ],
   "source": [
    "logging.getLogger().setLevel(logging.INFO)\n",
    "for N in N_VALUES:\n",
    "    greedy(N)"
   ]
  },
  {
   "cell_type": "markdown",
   "metadata": {},
   "source": [
    "### \"longest first\" Greedy\n",
    "Greedy solution as seen in the professor version, just starting from the longest random list first.\n",
    "Performs generally worse, fairly better in just one case, N = 20. It is probably a random consequence of the list generation."
   ]
  },
  {
   "cell_type": "code",
   "execution_count": 21,
   "metadata": {},
   "outputs": [
    {
     "name": "stderr",
     "output_type": "stream",
     "text": [
      "INFO:root:Alternate greedy version for N=5: w=5 (bloat=0%, Nodes visited: 5)\n",
      "INFO:root:Alternate greedy version for N=10: w=14 (bloat=40%, Nodes visited: 15)\n",
      "INFO:root:Alternate greedy version for N=20: w=36 (bloat=80%, Nodes visited: 15)\n",
      "INFO:root:Alternate greedy version for N=100: w=340 (bloat=240%, Nodes visited: 19)\n",
      "INFO:root:Alternate greedy version for N=500: w=2187 (bloat=337%, Nodes visited: 28)\n",
      "INFO:root:Alternate greedy version for N=1000: w=4699 (bloat=370%, Nodes visited: 28)\n"
     ]
    }
   ],
   "source": [
    "def longest_greedy(N):\n",
    "    goal = set(range(N))\n",
    "    covered = set()\n",
    "    solution = list()\n",
    "    nodes=0\n",
    "    all_lists = sorted(problem(N, seed=SEED), key=lambda l: len(l))\n",
    "    first_iter = True\n",
    "    while goal != covered:\n",
    "        if first_iter:\n",
    "            x = x = all_lists.pop()\n",
    "            nodes+=1\n",
    "            first_iter = False\n",
    "        else:\n",
    "            x = all_lists.pop(0)\n",
    "            nodes+=1\n",
    "        if not set(x) < covered:\n",
    "            solution.append(x)\n",
    "            covered |= set(x)\n",
    "\n",
    "    logging.info(\n",
    "            f\"Alternate greedy version for N={N}: w={sum(len(_) for _ in solution)} (bloat={(sum(len(_) for _ in solution)-N)/N*100:.0f}%, Nodes visited: {nodes})\")\n",
    "\n",
    "\n",
    "logging.getLogger().setLevel(logging.INFO)\n",
    "for N in N_VALUES:\n",
    "   longest_greedy(N)"
   ]
  },
  {
   "cell_type": "markdown",
   "metadata": {},
   "source": [
    "### Different solution\n",
    "Another possible solution with the implementation of Dijkstra search.\n",
    "Note - this is incomplete."
   ]
  },
  {
   "cell_type": "code",
   "execution_count": 22,
   "metadata": {},
   "outputs": [],
   "source": [
    "class Graph:\n",
    "    def __init__(self, num_vert):\n",
    "        self.v = num_vert\n",
    "        self.edges = [[-1 for i in range(num_vert)] for j in range(num_vert)]\n",
    "        self.visited = []\n",
    "\n",
    "    def add_edge(self, u, v, weight):\n",
    "        self.edges[u][v] = weight\n",
    "        self.edges[v][u] = weight\n",
    "\n",
    "def create_graph(graph, problem_list):\n",
    "    for i in graph.v:\n",
    "        for j in graph.v:\n",
    "            graph.add_edge(i, j, len(problem_list[j]))"
   ]
  },
  {
   "cell_type": "code",
   "execution_count": 23,
   "metadata": {},
   "outputs": [],
   "source": [
    "from queue import PriorityQueue\n",
    "\n",
    "def problem_start(N):\n",
    "    p = sorted(problem(N, seed=SEED), key=lambda l: len(l))\n",
    "    g = Graph(len(p))\n",
    "    create_graph(g, p)\n",
    "\n",
    "    return g, p\n",
    "\n",
    "def dijkstra(graph, problem, start_vertex):\n",
    "    D = {v:float('inf') for v in range(graph.v)}\n",
    "    D[start_vertex] = 0\n",
    "\n",
    "    pq = PriorityQueue()\n",
    "    pq.put((0, start_vertex))\n",
    "\n",
    "    while not pq.empty():\n",
    "        (dist, current_vertex) = pq.get()\n",
    "        graph.visited.append(current_vertex)\n",
    "\n",
    "        for neighbor in range(graph.v):\n",
    "            if graph.edges[current_vertex][neighbor] != -1:\n",
    "                distance = graph.edges[current_vertex][neighbor]\n",
    "                if neighbor not in graph.visited:\n",
    "                    old_cost = D[neighbor]\n",
    "                    new_cost = D[current_vertex] + distance\n",
    "                    if new_cost < old_cost:\n",
    "                        pq.put((new_cost, neighbor))\n",
    "                        D[neighbor] = new_cost\n",
    "    return D"
   ]
  }
 ],
 "metadata": {
  "kernelspec": {
   "display_name": "Python 3.10.4 64-bit",
   "language": "python",
   "name": "python3"
  },
  "language_info": {
   "codemirror_mode": {
    "name": "ipython",
    "version": 3
   },
   "file_extension": ".py",
   "mimetype": "text/x-python",
   "name": "python",
   "nbconvert_exporter": "python",
   "pygments_lexer": "ipython3",
   "version": "3.10.4"
  },
  "orig_nbformat": 4,
  "vscode": {
   "interpreter": {
    "hash": "aee8b7b246df8f9039afb4144a1f6fd8d2ca17a180786b69acc140d282b71a49"
   }
  }
 },
 "nbformat": 4,
 "nbformat_minor": 2
}
