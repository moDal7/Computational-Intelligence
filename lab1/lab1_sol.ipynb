{
 "cells": [
  {
   "cell_type": "markdown",
   "metadata": {},
   "source": [
    "### Problem generator\n",
    "Problem generator as given by professor, with default N values."
   ]
  },
  {
   "cell_type": "code",
   "execution_count": 3,
   "metadata": {},
   "outputs": [],
   "source": [
    "N_VALUES = [5, 10, 20, 100, 500, 1000]\n",
    "SEED = 42\n",
    "\n",
    "import logging\n",
    "import random\n",
    "from copy import copy\n",
    "import random\n",
    "import platform\n",
    "from collections import Counter\n",
    "from gx_utils import *\n",
    "\n",
    "def problem(N, seed=None):\n",
    "    '''Function to generate a set covering problem with number N, default seed is None'''\n",
    "    random.seed(seed)\n",
    "    return [\n",
    "        list(set(random.randint(0, N - 1) for n in range(random.randint(N // 5, N // 2))))\n",
    "        for n in range(random.randint(N, N * 5))\n",
    "    ]"
   ]
  },
  {
   "cell_type": "markdown",
   "metadata": {},
   "source": [
    "### Greedy solution\n",
    "Greed solution as given by professor."
   ]
  },
  {
   "cell_type": "code",
   "execution_count": 4,
   "metadata": {},
   "outputs": [],
   "source": [
    "import logging\n",
    "\n",
    "def greedy(N):\n",
    "    '''Just adds lists sorted from shortest to longest until the set is covered'''\n",
    "    goal = set(range(N))\n",
    "    covered = set()\n",
    "    solution = list()\n",
    "    nodes = 0\n",
    "    all_lists = sorted(problem(N, seed=SEED), key=lambda l: len(l))\n",
    "    while goal != covered:\n",
    "        x = all_lists.pop(0)\n",
    "        nodes+=1\n",
    "        if not set(x) < covered:\n",
    "            solution.append(x)\n",
    "            covered |= set(x)\n",
    "\n",
    "    logging.info(\n",
    "        f\"Greedy solution for N={N}: w={sum(len(_) for _ in solution)} (bloat={(sum(len(_) for _ in solution)-N)/N*100:.0f}%, Nodes visited: {nodes})\"\n",
    "    )\n",
    "    logging.debug(f\"{solution}\")"
   ]
  },
  {
   "cell_type": "code",
   "execution_count": 5,
   "metadata": {},
   "outputs": [
    {
     "name": "stderr",
     "output_type": "stream",
     "text": [
      "INFO:root:Greedy solution for N=5: w=5 (bloat=0%, Nodes visited: 13)\n",
      "INFO:root:Greedy solution for N=10: w=13 (bloat=30%, Nodes visited: 14)\n",
      "INFO:root:Greedy solution for N=20: w=46 (bloat=130%, Nodes visited: 14)\n",
      "INFO:root:Greedy solution for N=100: w=332 (bloat=232%, Nodes visited: 23)\n",
      "INFO:root:Greedy solution for N=500: w=2162 (bloat=332%, Nodes visited: 28)\n",
      "INFO:root:Greedy solution for N=1000: w=4652 (bloat=365%, Nodes visited: 27)\n"
     ]
    }
   ],
   "source": [
    "logging.getLogger().setLevel(logging.INFO)\n",
    "for N in N_VALUES:\n",
    "    greedy(N)"
   ]
  },
  {
   "cell_type": "markdown",
   "metadata": {},
   "source": [
    "### \"longest first\" Greedy\n",
    "Greedy solution as seen in the professor version, just starting from the longest random list first.\n",
    "Performs generally worse, fairly better in just one case, N = 20. It is probably a random consequence of the list generation."
   ]
  },
  {
   "cell_type": "code",
   "execution_count": 6,
   "metadata": {},
   "outputs": [
    {
     "name": "stderr",
     "output_type": "stream",
     "text": [
      "INFO:root:Alternate greedy version for N=5: w=5 (bloat=0%, Nodes visited: 5)\n",
      "INFO:root:Alternate greedy version for N=10: w=14 (bloat=40%, Nodes visited: 15)\n",
      "INFO:root:Alternate greedy version for N=20: w=36 (bloat=80%, Nodes visited: 15)\n",
      "INFO:root:Alternate greedy version for N=100: w=340 (bloat=240%, Nodes visited: 19)\n",
      "INFO:root:Alternate greedy version for N=500: w=2187 (bloat=337%, Nodes visited: 28)\n",
      "INFO:root:Alternate greedy version for N=1000: w=4699 (bloat=370%, Nodes visited: 28)\n"
     ]
    }
   ],
   "source": [
    "def longest_greedy(N):\n",
    "    '''As the greedy, but the first list to be added is the longest'''\n",
    "    goal = set(range(N))\n",
    "    covered = set()\n",
    "    solution = list()\n",
    "    nodes=0\n",
    "    all_lists = sorted(problem(N, seed=SEED), key=lambda l: len(l))\n",
    "    first_iter = True\n",
    "    while goal != covered:\n",
    "        if first_iter:\n",
    "            x = x = all_lists.pop()\n",
    "            nodes+=1\n",
    "            first_iter = False\n",
    "        else:\n",
    "            x = all_lists.pop(0)\n",
    "            nodes+=1\n",
    "        if not set(x) < covered:\n",
    "            solution.append(x)\n",
    "            covered |= set(x)\n",
    "\n",
    "    logging.info(\n",
    "            f\"Alternate greedy version for N={N}: w={sum(len(_) for _ in solution)} (bloat={(sum(len(_) for _ in solution)-N)/N*100:.0f}%, Nodes visited: {nodes})\")\n",
    "\n",
    "\n",
    "logging.getLogger().setLevel(logging.INFO)\n",
    "for N in N_VALUES:\n",
    "   longest_greedy(N)"
   ]
  },
  {
   "cell_type": "markdown",
   "metadata": {},
   "source": [
    "### Different solution\n",
    "Another possible solution with the implementation of Dijkstra search.\n",
    "Note - this is incomplete."
   ]
  },
  {
   "cell_type": "code",
   "execution_count": 7,
   "metadata": {},
   "outputs": [],
   "source": [
    "from gx_utils import *\n",
    "\n",
    "class Graph:\n",
    "    '''graph inizialization, compute'''\n",
    "    def __init__(self, num_vert):\n",
    "        self.v = num_vert\n",
    "        self.edges = [[-1 for i in range(num_vert)] for j in range(num_vert)]\n",
    "        self.visited = []\n",
    "\n",
    "    def add_edge(self, u, v, weight):\n",
    "        self.edges[u][v] = weight\n",
    "        #self.edges[v][u] = weight\n",
    "\n",
    "def create_graph(graph, problem_list):\n",
    "    for i in range(graph.v):\n",
    "        for j in range(graph.v):\n",
    "            graph.add_edge(i, j, len(problem_list[j]))\n",
    "            graph.add_edge(j, i, len(problem_list[i]))"
   ]
  },
  {
   "cell_type": "code",
   "execution_count": 8,
   "metadata": {},
   "outputs": [],
   "source": [
    "def dijkstra_sol(N):\n",
    "\n",
    "    GOAL = set(range(N))\n",
    "\n",
    "    def problem_start(N):\n",
    "        'starts the problem, adds the first vertex, so the shortest list, to the visited'\n",
    "        p = sorted(problem(N, seed=SEED), key=lambda l: len(l))\n",
    "        g = Graph(len(p))\n",
    "        create_graph(g, p)\n",
    "\n",
    "        return g, p\n",
    "\n",
    "    def visited_to_set(state, problem_list):\n",
    "        sol = [tuple(problem_list[e]) for e in state]\n",
    "        return set(sum((e for e in sol), start=()))\n",
    "    \n",
    "    def goal_test(state, problem_list):\n",
    "        return visited_to_set(state, problem_list) == GOAL\n",
    "    \n",
    "    _, p = problem_start(N)\n",
    "   \n",
    "    D = {v:float('inf') for v in range(_.v)}\n",
    "    solution = p\n",
    "    \n",
    "    for start in range(_.v):  \n",
    "        g, p = problem_start(N)\n",
    "        pq = PriorityQueue()  \n",
    "        pq.push((0, start), p=0)\n",
    "        #pq.put((0, start))\n",
    "        D = {v:float('inf') for v in range(_.v)}\n",
    "        D[start]=0\n",
    "\n",
    "        while pq:\n",
    "            (dist, current_vertex) = pq.pop()\n",
    "            g.visited.append(current_vertex)\n",
    "\n",
    "            for neighbor in range(g.v):\n",
    "\n",
    "                if g.edges[current_vertex][neighbor] != -1:\n",
    "                    new_elements = visited_to_set(g.visited, p) - set(p[neighbor])\n",
    "                    distance = g.edges[current_vertex][neighbor] - len(new_elements)\n",
    "\n",
    "                    \n",
    "                    if neighbor not in g.visited:\n",
    "                        old_cost = D[neighbor]\n",
    "                        cost = D[current_vertex] + distance\n",
    "\n",
    "                        if cost < old_cost:\n",
    "                            pq.push((cost, neighbor), p=cost)\n",
    "                            D[neighbor] = cost\n",
    "            \n",
    "                    if goal_test(g.visited, p):\n",
    "\n",
    "                        new_solution = [p[elem] for elem in g.visited]\n",
    "                        weight_new = sum(len(_) for _ in new_solution)\n",
    "                        weight_old = sum(len(_) for _ in solution)\n",
    "                        solution = new_solution if weight_new<weight_old else solution\n",
    "                        \n",
    "                        if weight_new==N:\n",
    "                            return solution\n",
    "                        \n",
    "                        pq = PriorityQueue()\n",
    "        \n",
    "    return solution\n",
    "\n",
    "# incomplete and possibly non functioning approach, left it here to leave trace of what was delivered\n",
    "# will probably complete/review it for learning purposes"
   ]
  },
  {
   "cell_type": "code",
   "execution_count": 15,
   "metadata": {},
   "outputs": [
    {
     "name": "stderr",
     "output_type": "stream",
     "text": [
      "INFO:root: Solution for N=5: w=5 (bloat=0%), solution is [[0], [1], [4], [2], [3]]\n",
      "INFO:root: Solution for N=10: w=10 (bloat=0%), solution is [[8, 9, 3], [6], [0, 4], [2, 5], [1, 7]]\n",
      "INFO:root: Solution for N=20: w=33 (bloat=65%), solution is [[6, 9, 11, 12, 17], [8, 4, 7], [18, 2, 15], [8, 16, 5], [1, 3, 13, 14], [17, 18, 7], [17, 10, 1, 7], [16, 9, 19, 6], [0, 1, 2, 7]]\n"
     ]
    }
   ],
   "source": [
    "logging.getLogger().setLevel(logging.DEBUG)\n",
    "\n",
    "for N in [5, 10, 20]:\n",
    "    solution = dijkstra_sol(N)\n",
    "    logging.info(\n",
    "        f\" Solution for N={N:,}: \"\n",
    "        + f\"w={sum(len(_) for _ in solution):,} \"\n",
    "        + f\"(bloat={(sum(len(_) for _ in solution)-N)/N*100:.0f}%), solution is {solution}\"\n",
    "    )"
   ]
  },
  {
   "cell_type": "markdown",
   "metadata": {},
   "source": [
    "NOTE: everything here is copied from professor Squillero's solution and is here for the sake of completion of the exercise and to keep track of the different algorithms.\n",
    "It should not be considered as mine."
   ]
  },
  {
   "cell_type": "markdown",
   "metadata": {},
   "source": [
    "# Dijkstra's\n",
    "Professor Squillero's solution, with added comments for learning purposes.\n",
    "\n",
    "    Copyright © 2022 Giovanni Squillero <squillero@polito.it>\n",
    "    https://github.com/squillero/computational-intelligence \n",
    "    Free for personal or classroom use; see 'LICENSE.md' for details."
   ]
  },
  {
   "cell_type": "code",
   "execution_count": 10,
   "metadata": {},
   "outputs": [],
   "source": [
    "from gx_utils import *\n",
    "\n",
    "def dijkstra(N, all_lists):\n",
    "    \"\"\"Vanilla Dijkstra's algorithm\"\"\"\n",
    "    \n",
    "    # Goal and utility variables initialization \n",
    "    # all_lists is the problem generated sorted list \n",
    "    GOAL = set(range(N))\n",
    "\n",
    "    # generates a tuple consisting of the lists of the problem\n",
    "    # ordered and unchangeable list\n",
    "    all_lists = tuple(set(tuple(_) for _ in all_lists))\n",
    "    frontier = PriorityQueue()\n",
    "    nodes = 0\n",
    "\n",
    "    # converts a state (list of visited nodes) into a set\n",
    "    # to be able to compare with goal\n",
    "    def state_to_set(state):\n",
    "        return set(sum((e for e in state), start=()))\n",
    "\n",
    "    # comparison with goal, returns bool\n",
    "    def goal_test(state):\n",
    "        return state_to_set(state) == GOAL\n",
    "\n",
    "    # returns a list of lists, which\n",
    "    # could be the possible step -> all except \n",
    "    # subsets or equivalent sets\n",
    "    def possible_steps(state):\n",
    "        current = state_to_set(state)\n",
    "        return [l for l in all_lists if not set(l) <= current]\n",
    "\n",
    "    # computation of the internal weight\n",
    "    # per state\n",
    "    def w(state):\n",
    "        cnt = Counter()\n",
    "        cnt.update(sum((e for e in state), start=()))\n",
    "        return sum(cnt[c] - 1 for c in cnt if cnt[c] > 1), -sum(cnt[c] == 1 for c in cnt)\n",
    "    \n",
    "    # keeps on updating the frontier based on \n",
    "    # internal weight computed by w() function\n",
    "    # and then choosing the next state as the one with \n",
    "    # the lowest internal weight\n",
    "    state = tuple()\n",
    "    while state is not None and not goal_test(state):\n",
    "        nodes += 1\n",
    "        for s in possible_steps(state):\n",
    "            frontier.push((*state, s), p=w((*state, s)))\n",
    "        state = frontier.pop()\n",
    "\n",
    "    logging.debug(f\"dijkstra: SOLVED! nodes={nodes:,}; w={sum(len(_) for _ in state):,}; iw={w(state)})\")\n",
    "    return state"
   ]
  },
  {
   "cell_type": "code",
   "execution_count": 14,
   "metadata": {},
   "outputs": [
    {
     "name": "stderr",
     "output_type": "stream",
     "text": [
      "INFO:root: Solution for N=5: w=5 (bloat=0%)\n",
      "INFO:root: Solution for N=10: w=10 (bloat=0%)\n",
      "INFO:root: Solution for N=20: w=23 (bloat=15%)\n"
     ]
    }
   ],
   "source": [
    "logging.getLogger().setLevel(logging.INFO)\n",
    "\n",
    "for N in [5, 10, 20]:\n",
    "    solution = dijkstra(N, problem(N, seed=42))\n",
    "    logging.info(\n",
    "        f\" Solution for N={N:,}: \"\n",
    "        + f\"w={sum(len(_) for _ in solution):,} \"\n",
    "        + f\"(bloat={(sum(len(_) for _ in solution)-N)/N*100:.0f}%)\"\n",
    "    )"
   ]
  },
  {
   "cell_type": "markdown",
   "metadata": {},
   "source": [
    "# Hill Climbing\n",
    "Professor Squillero Hill Climbing solution, with added comments for learning purposes.\n",
    "\n",
    "    Copyright © 2022 Giovanni Squillero <squillero@polito.it>\n",
    "    https://github.com/squillero/computational-intelligence \n",
    "    Free for personal or classroom use; see 'LICENSE.md' for details."
   ]
  },
  {
   "cell_type": "code",
   "execution_count": 20,
   "metadata": {},
   "outputs": [],
   "source": [
    "def hc(N, all_lists):\n",
    "    \"\"\"Vanilla Hill Climber\"\"\"\n",
    "\n",
    "    # same operation as for Dijkstra\n",
    "    all_lists = set(tuple(_) for _ in all_lists)\n",
    "\n",
    "    # state evaluation by number of lists in the counter\n",
    "    # and total sum of the elements in them\n",
    "    def evaluate(state):\n",
    "        cnt = Counter()\n",
    "        cnt.update(sum((e for e in state), start=()))\n",
    "        return len(cnt), -cnt.total()\n",
    "\n",
    "    # tweak function on the current solution\n",
    "    # randomly eliminates a list from the solution \n",
    "    # or adds a list non present in the solution \n",
    "    # from the possible lists\n",
    "    def tweak(solution):\n",
    "        new_solution = set(solution)\n",
    "        while new_solution and random.random() < 0.7:\n",
    "            r = random.choice(list(new_solution))\n",
    "            new_solution.remove(r)\n",
    "        while random.random() < 0.7:\n",
    "            a = random.choice(list(all_lists - solution))\n",
    "            new_solution.add(a)\n",
    "        return new_solution\n",
    "\n",
    "    # sets a max number of consecutive useless steps\n",
    "    # to stop tweaking\n",
    "    current_solution = set()\n",
    "    useless_steps = 0\n",
    "    while useless_steps < 10_000:\n",
    "        useless_steps += 1\n",
    "        candidate_solution = tweak(current_solution)\n",
    "        if evaluate(candidate_solution) > evaluate(current_solution):\n",
    "            useless_steps = 0\n",
    "            current_solution = copy(candidate_solution)\n",
    "            logging.debug(f\"New solution: {evaluate(current_solution)}\")\n",
    "    return current_solution"
   ]
  },
  {
   "cell_type": "code",
   "execution_count": 28,
   "metadata": {},
   "outputs": [
    {
     "name": "stderr",
     "output_type": "stream",
     "text": [
      "INFO:root: Solution for N=5: w=5 (bloat=0%)\n",
      "INFO:root: Solution for N=10: w=11 (bloat=10%)\n",
      "INFO:root: Solution for N=20: w=24 (bloat=20%)\n",
      "INFO:root: Solution for N=100: w=214 (bloat=114%)\n",
      "INFO:root: Solution for N=1,000: w=3,383 (bloat=238%)\n"
     ]
    }
   ],
   "source": [
    "logging.getLogger().setLevel(logging.INFO)\n",
    "\n",
    "for N in [5, 10, 20, 100, 1000]:\n",
    "    solution = hc(N, problem(N, seed=42))\n",
    "    logging.info(\n",
    "        f\" Solution for N={N:,}: \"\n",
    "        + f\"w={sum(len(_) for _ in solution):,} \"\n",
    "        + f\"(bloat={(sum(len(_) for _ in solution)-N)/N*100:.0f}%)\" \n",
    "    )"
   ]
  },
  {
   "cell_type": "code",
   "execution_count": 16,
   "metadata": {},
   "outputs": [],
   "source": [
    "def hc_adapt(N, all_lists):\n",
    "    \"\"\"Vanilla Hill Climber\"\"\"\n",
    "\n",
    "    # same operation as for Dijkstra\n",
    "    all_lists = set(tuple(_) for _ in all_lists)\n",
    "\n",
    "    # state evaluation by number of lists in the counter\n",
    "    # and total sum of the elements in them\n",
    "    def evaluate(state):\n",
    "        cnt = Counter()\n",
    "        cnt.update(sum((e for e in state), start=()))\n",
    "        return len(cnt), -cnt.total()\n",
    "\n",
    "    # tweak function on the current solution\n",
    "    # randomly eliminates a list from the solution \n",
    "    # or adds a list non present in the solution \n",
    "    # from the possible lists\n",
    "    def tweak0(solution):\n",
    "        new_solution = set(solution)\n",
    "        while new_solution and random.random() < 0.7:\n",
    "            r = random.choice(list(new_solution))\n",
    "            new_solution.remove(r)\n",
    "        while random.random() < 0.7:\n",
    "            a = random.choice(list(all_lists - solution))\n",
    "            new_solution.add(a)\n",
    "        return new_solution\n",
    "    \n",
    "    def tweak1(solution):\n",
    "        new_solution = set(solution)\n",
    "        while new_solution and random.random() < 0.8:\n",
    "            r = random.choice(sorted(list(new_solution), key=lambda x: len(x))[0:5])\n",
    "            new_solution.remove(r)\n",
    "        while random.random() < 0.8:\n",
    "            a = random.choice(list(all_lists - solution))\n",
    "            new_solution.add(a)\n",
    "        return new_solution\n",
    "    \n",
    "    def tweak2(solution):\n",
    "        new_solution = set(solution)\n",
    "        while new_solution and random.random() < 0.8:\n",
    "            r = sorted(list(new_solution), key=lambda x: len(x))[0]\n",
    "            new_solution.remove(r)\n",
    "            a = random.choice(list(all_lists - solution))\n",
    "            new_solution.add(a)\n",
    "        return new_solution\n",
    "\n",
    "    # sets a max number of consecutive useless steps\n",
    "    # to stop tweaking\n",
    "    current_solution = set()\n",
    "    useless_steps = 0\n",
    "    while useless_steps < 10_000:\n",
    "        useless_steps += 1\n",
    "\n",
    "        if useless_steps < 5000:\n",
    "            candidate_solution = tweak0(current_solution)\n",
    "        elif 5000 < useless_steps < 8000:\n",
    "            candidate_solution = tweak1(current_solution)\n",
    "        else:\n",
    "            candidate_solution = tweak2(current_solution)\n",
    "\n",
    "        if evaluate(candidate_solution) > evaluate(current_solution):\n",
    "            useless_steps = 0\n",
    "            current_solution = copy(candidate_solution)\n",
    "            logging.debug(f\"New solution: {evaluate(current_solution)}\")\n",
    "    return current_solution"
   ]
  },
  {
   "cell_type": "code",
   "execution_count": 29,
   "metadata": {},
   "outputs": [
    {
     "name": "stderr",
     "output_type": "stream",
     "text": [
      "INFO:root: Solution for N=5: w=5 (bloat=0%)\n",
      "INFO:root: Solution for N=10: w=10 (bloat=0%)\n",
      "INFO:root: Solution for N=20: w=24 (bloat=20%)\n",
      "INFO:root: Solution for N=100: w=214 (bloat=114%)\n",
      "INFO:root: Solution for N=500: w=1,509 (bloat=202%)\n",
      "INFO:root: Solution for N=1,000: w=3,469 (bloat=247%)\n"
     ]
    }
   ],
   "source": [
    "logging.getLogger().setLevel(logging.INFO)\n",
    "\n",
    "for N in [5, 10, 20, 100, 500, 1000]:\n",
    "    solution = hc_adapt(N, problem(N, seed=42))\n",
    "    logging.info(\n",
    "        f\" Solution for N={N:,}: \"\n",
    "        + f\"w={sum(len(_) for _ in solution):,} \"\n",
    "        + f\"(bloat={(sum(len(_) for _ in solution)-N)/N*100:.0f}%)\"\n",
    "    )"
   ]
  }
 ],
 "metadata": {
  "kernelspec": {
   "display_name": "Python 3.10.4 64-bit",
   "language": "python",
   "name": "python3"
  },
  "language_info": {
   "codemirror_mode": {
    "name": "ipython",
    "version": 3
   },
   "file_extension": ".py",
   "mimetype": "text/x-python",
   "name": "python",
   "nbconvert_exporter": "python",
   "pygments_lexer": "ipython3",
   "version": "3.10.4"
  },
  "orig_nbformat": 4,
  "vscode": {
   "interpreter": {
    "hash": "aee8b7b246df8f9039afb4144a1f6fd8d2ca17a180786b69acc140d282b71a49"
   }
  }
 },
 "nbformat": 4,
 "nbformat_minor": 2
}
