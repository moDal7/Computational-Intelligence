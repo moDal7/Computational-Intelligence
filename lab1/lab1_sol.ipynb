{
 "cells": [
  {
   "cell_type": "markdown",
   "metadata": {},
   "source": [
    "### Problem generator\n",
    "Problem generator as given by professor, with default N values."
   ]
  },
  {
   "cell_type": "code",
   "execution_count": 20,
   "metadata": {},
   "outputs": [],
   "source": [
    "N_VALUES = [5, 10, 20, 100, 500, 1000]\n",
    "SEED = 42\n",
    "\n",
    "import logging\n",
    "import random\n",
    "from copy import copy\n",
    "import random\n",
    "import platform\n",
    "from collections import Counter\n",
    "from gx_utils import *\n",
    "\n",
    "def problem(N, seed=None):\n",
    "    random.seed(seed)\n",
    "    return [\n",
    "        list(set(random.randint(0, N - 1) for n in range(random.randint(N // 5, N // 2))))\n",
    "        for n in range(random.randint(N, N * 5))\n",
    "    ]"
   ]
  },
  {
   "cell_type": "markdown",
   "metadata": {},
   "source": [
    "### Greedy solution\n",
    "Greed solution as given by professor."
   ]
  },
  {
   "cell_type": "code",
   "execution_count": 21,
   "metadata": {},
   "outputs": [],
   "source": [
    "import logging\n",
    "\n",
    "def greedy(N):\n",
    "    goal = set(range(N))\n",
    "    covered = set()\n",
    "    solution = list()\n",
    "    nodes = 0\n",
    "    all_lists = sorted(problem(N, seed=SEED), key=lambda l: len(l))\n",
    "    while goal != covered:\n",
    "        x = all_lists.pop(0)\n",
    "        nodes+=1\n",
    "        if not set(x) < covered:\n",
    "            solution.append(x)\n",
    "            covered |= set(x)\n",
    "\n",
    "    logging.info(\n",
    "        f\"Greedy solution for N={N}: w={sum(len(_) for _ in solution)} (bloat={(sum(len(_) for _ in solution)-N)/N*100:.0f}%, Nodes visited: {nodes})\"\n",
    "    )\n",
    "    logging.debug(f\"{solution}\")"
   ]
  },
  {
   "cell_type": "code",
   "execution_count": 22,
   "metadata": {},
   "outputs": [
    {
     "name": "stderr",
     "output_type": "stream",
     "text": [
      "INFO:root:Greedy solution for N=5: w=5 (bloat=0%, Nodes visited: 13)\n",
      "INFO:root:Greedy solution for N=10: w=13 (bloat=30%, Nodes visited: 14)\n",
      "INFO:root:Greedy solution for N=20: w=46 (bloat=130%, Nodes visited: 14)\n",
      "INFO:root:Greedy solution for N=100: w=332 (bloat=232%, Nodes visited: 23)\n",
      "INFO:root:Greedy solution for N=500: w=2162 (bloat=332%, Nodes visited: 28)\n",
      "INFO:root:Greedy solution for N=1000: w=4652 (bloat=365%, Nodes visited: 27)\n"
     ]
    }
   ],
   "source": [
    "logging.getLogger().setLevel(logging.INFO)\n",
    "for N in N_VALUES:\n",
    "    greedy(N)"
   ]
  },
  {
   "cell_type": "markdown",
   "metadata": {},
   "source": [
    "### \"longest first\" Greedy\n",
    "Greedy solution as seen in the professor version, just starting from the longest random list first.\n",
    "Performs generally worse, fairly better in just one case, N = 20. It is probably a random consequence of the list generation."
   ]
  },
  {
   "cell_type": "code",
   "execution_count": 23,
   "metadata": {},
   "outputs": [
    {
     "name": "stderr",
     "output_type": "stream",
     "text": [
      "INFO:root:Alternate greedy version for N=5: w=5 (bloat=0%, Nodes visited: 5)\n",
      "INFO:root:Alternate greedy version for N=10: w=14 (bloat=40%, Nodes visited: 15)\n",
      "INFO:root:Alternate greedy version for N=20: w=36 (bloat=80%, Nodes visited: 15)\n",
      "INFO:root:Alternate greedy version for N=100: w=340 (bloat=240%, Nodes visited: 19)\n",
      "INFO:root:Alternate greedy version for N=500: w=2187 (bloat=337%, Nodes visited: 28)\n",
      "INFO:root:Alternate greedy version for N=1000: w=4699 (bloat=370%, Nodes visited: 28)\n"
     ]
    }
   ],
   "source": [
    "def longest_greedy(N):\n",
    "    goal = set(range(N))\n",
    "    covered = set()\n",
    "    solution = list()\n",
    "    nodes=0\n",
    "    all_lists = sorted(problem(N, seed=SEED), key=lambda l: len(l))\n",
    "    first_iter = True\n",
    "    while goal != covered:\n",
    "        if first_iter:\n",
    "            x = x = all_lists.pop()\n",
    "            nodes+=1\n",
    "            first_iter = False\n",
    "        else:\n",
    "            x = all_lists.pop(0)\n",
    "            nodes+=1\n",
    "        if not set(x) < covered:\n",
    "            solution.append(x)\n",
    "            covered |= set(x)\n",
    "\n",
    "    logging.info(\n",
    "            f\"Alternate greedy version for N={N}: w={sum(len(_) for _ in solution)} (bloat={(sum(len(_) for _ in solution)-N)/N*100:.0f}%, Nodes visited: {nodes})\")\n",
    "\n",
    "\n",
    "logging.getLogger().setLevel(logging.INFO)\n",
    "for N in N_VALUES:\n",
    "   longest_greedy(N)"
   ]
  },
  {
   "cell_type": "markdown",
   "metadata": {},
   "source": [
    "### Different solution\n",
    "Another possible solution with the implementation of Dijkstra search.\n",
    "Note - this is incomplete."
   ]
  },
  {
   "cell_type": "code",
   "execution_count": 24,
   "metadata": {},
   "outputs": [],
   "source": [
    "class Graph:\n",
    "    def __init__(self, num_vert):\n",
    "        self.v = num_vert\n",
    "        self.edges = [[-1 for i in range(num_vert)] for j in range(num_vert)]\n",
    "        self.visited = []\n",
    "\n",
    "    def add_edge(self, u, v, weight):\n",
    "        self.edges[u][v] = weight\n",
    "        self.edges[v][u] = weight\n",
    "\n",
    "def create_graph(graph, problem_list):\n",
    "    for i in graph.v:\n",
    "        for j in graph.v:\n",
    "            graph.add_edge(i, j, len(problem_list[j]))"
   ]
  },
  {
   "cell_type": "code",
   "execution_count": 25,
   "metadata": {},
   "outputs": [],
   "source": [
    "def problem_start(N):\n",
    "    p = sorted(problem(N, seed=SEED), key=lambda l: len(l))\n",
    "    g = Graph(len(p))\n",
    "    create_graph(g, p)\n",
    "\n",
    "    return g, p\n",
    "\n",
    "def dijkstra(N):\n",
    "\n",
    "    g, p = problem_start(N)\n",
    "    D = {v:float('inf') for v in range(g.v)}\n",
    "    D[0] = 0\n",
    "\n",
    "    pq = PriorityQueue()\n",
    "    pq.put((0, 0))\n",
    "\n",
    "    while not pq.empty():\n",
    "        (dist, current_vertex) = pq.get()\n",
    "        g.visited.append(current_vertex)\n",
    "\n",
    "        for neighbor in range(g.v):\n",
    "            if g.edges[current_vertex][neighbor] != -1:\n",
    "                distance = g.edges[current_vertex][neighbor]\n",
    "                if neighbor not in g.visited:\n",
    "                    old_cost = D[neighbor]\n",
    "                    new_cost = D[current_vertex] + distance\n",
    "                    if new_cost < old_cost:\n",
    "                        pq.put((new_cost, neighbor))\n",
    "                        D[neighbor] = new_cost\n",
    "    return D\n",
    "\n",
    "# incomplete and possibly non functioning approach, left it here to leave trace of what was delivered\n",
    "# will probably complete/review it for learning purposes"
   ]
  },
  {
   "cell_type": "markdown",
   "metadata": {},
   "source": [
    "NOTE: everything here is copied from professor Squillero's solution and is here for the sake of completion of the exercise and to keep track of the different algorithms.\n",
    "It should not be considered as mine."
   ]
  },
  {
   "cell_type": "markdown",
   "metadata": {},
   "source": [
    "# Dijkstra's\n",
    "Professor Squillero's solution, with added comments for learning purposes.\n",
    "\n",
    "    Copyright © 2022 Giovanni Squillero <squillero@polito.it>\n",
    "    https://github.com/squillero/computational-intelligence \n",
    "    Free for personal or classroom use; see 'LICENSE.md' for details."
   ]
  },
  {
   "cell_type": "code",
   "execution_count": 26,
   "metadata": {},
   "outputs": [],
   "source": [
    "def dijkstra(N, all_lists):\n",
    "    \"\"\"Vanilla Dijkstra's algorithm\"\"\"\n",
    "    \n",
    "    # Goal and utility variables initialization \n",
    "    # all_lists is the problem generated sorted list \n",
    "    GOAL = set(range(N))\n",
    "\n",
    "    # generates a tuple consisting of the lists of the problem\n",
    "    # ordered and unchangeable list\n",
    "    all_lists = tuple(set(tuple(_) for _ in all_lists))\n",
    "    frontier = PriorityQueue()\n",
    "    nodes = 0\n",
    "\n",
    "    # converts a state (list of visited nodes) into a set\n",
    "    # to be able to compare with goal\n",
    "    def state_to_set(state):\n",
    "        return set(sum((e for e in state), start=()))\n",
    "\n",
    "    # comparison with goal, returns bool\n",
    "    def goal_test(state):\n",
    "        return state_to_set(state) == GOAL\n",
    "\n",
    "    # returns a list of lists, which\n",
    "    # could be the possible step -> all except \n",
    "    # subsets or equivalent sets\n",
    "    def possible_steps(state):\n",
    "        current = state_to_set(state)\n",
    "        return [l for l in all_lists if not set(l) <= current]\n",
    "\n",
    "    # computation of the internal weight\n",
    "    # per state\n",
    "    def w(state):\n",
    "        cnt = Counter()\n",
    "        cnt.update(sum((e for e in state), start=()))\n",
    "        return sum(cnt[c] - 1 for c in cnt if cnt[c] > 1), -sum(cnt[c] == 1 for c in cnt)\n",
    "    \n",
    "    # keeps on updating the frontier based on \n",
    "    # internal weight computed by w() function\n",
    "    # and then choosing the next state as the one with \n",
    "    # the lowest internal weight\n",
    "    state = tuple()\n",
    "    while state is not None and not goal_test(state):\n",
    "        nodes += 1\n",
    "        for s in possible_steps(state):\n",
    "            frontier.push((*state, s), p=w((*state, s)))\n",
    "        state = frontier.pop()\n",
    "\n",
    "    logging.debug(f\"dijkstra: SOLVED! nodes={nodes:,}; w={sum(len(_) for _ in state):,}; iw={w(state)})\")\n",
    "    return state"
   ]
  },
  {
   "cell_type": "code",
   "execution_count": 27,
   "metadata": {},
   "outputs": [
    {
     "name": "stderr",
     "output_type": "stream",
     "text": [
      "DEBUG:root:dijkstra: SOLVED! nodes=3; w=5; iw=(0, -5))\n",
      "INFO:root: Solution for N=5: w=5 (bloat=0%)\n",
      "DEBUG:root:dijkstra: SOLVED! nodes=3; w=10; iw=(0, -10))\n",
      "INFO:root: Solution for N=10: w=10 (bloat=0%)\n",
      "DEBUG:root:dijkstra: SOLVED! nodes=14,095; w=23; iw=(3, -17))\n",
      "INFO:root: Solution for N=20: w=23 (bloat=15%)\n"
     ]
    }
   ],
   "source": [
    "logging.getLogger().setLevel(logging.DEBUG)\n",
    "\n",
    "for N in [5, 10, 20]:\n",
    "    solution = dijkstra(N, problem(N, seed=42))\n",
    "    logging.info(\n",
    "        f\" Solution for N={N:,}: \"\n",
    "        + f\"w={sum(len(_) for _ in solution):,} \"\n",
    "        + f\"(bloat={(sum(len(_) for _ in solution)-N)/N*100:.0f}%)\"\n",
    "    )"
   ]
  },
  {
   "cell_type": "markdown",
   "metadata": {},
   "source": [
    "# Hill Climbing\n",
    "Professor Squillero Hill Climbing solution, with added comments for learning purposes.\n",
    "\n",
    "    Copyright © 2022 Giovanni Squillero <squillero@polito.it>\n",
    "    https://github.com/squillero/computational-intelligence \n",
    "    Free for personal or classroom use; see 'LICENSE.md' for details."
   ]
  },
  {
   "cell_type": "code",
   "execution_count": 28,
   "metadata": {},
   "outputs": [],
   "source": [
    "def hc(N, all_lists):\n",
    "    \"\"\"Vanilla Hill Climber\"\"\"\n",
    "\n",
    "    # same operation as for Dijkstra\n",
    "    all_lists = set(tuple(_) for _ in all_lists)\n",
    "\n",
    "    # state evaluation by number of lists in the counter\n",
    "    # and total sum of the elements in them\n",
    "    def evaluate(state):\n",
    "        cnt = Counter()\n",
    "        cnt.update(sum((e for e in state), start=()))\n",
    "        return len(cnt), -cnt.total()\n",
    "\n",
    "    # tweak function on the current solution\n",
    "    # randomly eliminates a list from the solution \n",
    "    # or adds a list non present in the solution \n",
    "    # from the possible lists\n",
    "    def tweak(solution):\n",
    "        new_solution = set(solution)\n",
    "        while new_solution and random.random() < 0.7:\n",
    "            r = random.choice(list(new_solution))\n",
    "            new_solution.remove(r)\n",
    "        while random.random() < 0.7:\n",
    "            a = random.choice(list(all_lists - solution))\n",
    "            new_solution.add(a)\n",
    "        return new_solution\n",
    "\n",
    "    # sets a max number of consecutive useless steps\n",
    "    # to stop tweaking\n",
    "    current_solution = set()\n",
    "    useless_steps = 0\n",
    "    while useless_steps < 10_000:\n",
    "        useless_steps += 1\n",
    "        candidate_solution = tweak(current_solution)\n",
    "        if evaluate(candidate_solution) > evaluate(current_solution):\n",
    "            useless_steps = 0\n",
    "            current_solution = copy(candidate_solution)\n",
    "            logging.debug(f\"New solution: {evaluate(current_solution)}\")\n",
    "    return current_solution"
   ]
  },
  {
   "cell_type": "code",
   "execution_count": 29,
   "metadata": {},
   "outputs": [
    {
     "name": "stderr",
     "output_type": "stream",
     "text": [
      "INFO:root: Solution for N=5: w=5 (bloat=0%)\n",
      "INFO:root: Solution for N=10: w=11 (bloat=10%)\n",
      "INFO:root: Solution for N=20: w=24 (bloat=20%)\n",
      "INFO:root: Solution for N=100: w=214 (bloat=114%)\n",
      "INFO:root: Solution for N=500: w=1,504 (bloat=201%)\n",
      "INFO:root: Solution for N=1,000: w=3,383 (bloat=238%)\n"
     ]
    }
   ],
   "source": [
    "logging.getLogger().setLevel(logging.INFO)\n",
    "\n",
    "for N in [5, 10, 20, 100, 500, 1000]:\n",
    "    solution = hc(N, problem(N, seed=42))\n",
    "    logging.info(\n",
    "        f\" Solution for N={N:,}: \"\n",
    "        + f\"w={sum(len(_) for _ in solution):,} \"\n",
    "        + f\"(bloat={(sum(len(_) for _ in solution)-N)/N*100:.0f}%)\"\n",
    "    )"
   ]
  }
 ],
 "metadata": {
  "kernelspec": {
   "display_name": "Python 3.10.4 64-bit",
   "language": "python",
   "name": "python3"
  },
  "language_info": {
   "codemirror_mode": {
    "name": "ipython",
    "version": 3
   },
   "file_extension": ".py",
   "mimetype": "text/x-python",
   "name": "python",
   "nbconvert_exporter": "python",
   "pygments_lexer": "ipython3",
   "version": "3.10.4"
  },
  "orig_nbformat": 4,
  "vscode": {
   "interpreter": {
    "hash": "aee8b7b246df8f9039afb4144a1f6fd8d2ca17a180786b69acc140d282b71a49"
   }
  }
 },
 "nbformat": 4,
 "nbformat_minor": 2
}
