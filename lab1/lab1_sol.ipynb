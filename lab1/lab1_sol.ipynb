{
 "cells": [
  {
   "cell_type": "markdown",
   "metadata": {},
   "source": [
    "Problem generator"
   ]
  },
  {
   "cell_type": "code",
   "execution_count": 11,
   "metadata": {},
   "outputs": [],
   "source": [
    "N_VALUES = [5, 10, 20, 100, 500, 1000]\n",
    "\n",
    "import random\n",
    "\n",
    "def problem(N, seed=None):\n",
    "    random.seed(seed)\n",
    "    return [\n",
    "        list(set(random.randint(0, N - 1) for n in range(random.randint(N // 5, N // 2))))\n",
    "        for n in range(random.randint(N, N * 5))\n",
    "    ]"
   ]
  },
  {
   "cell_type": "markdown",
   "metadata": {},
   "source": [
    "Greedy solution"
   ]
  },
  {
   "cell_type": "code",
   "execution_count": 12,
   "metadata": {},
   "outputs": [],
   "source": [
    "import logging\n",
    "\n",
    "\n",
    "def greedy(N):\n",
    "    goal = set(range(N))\n",
    "    covered = set()\n",
    "    solution = list()\n",
    "    all_lists = sorted(problem(N, seed=42), key=lambda l: len(l))\n",
    "    while goal != covered:\n",
    "        x = all_lists.pop(0)\n",
    "        if not set(x) < covered:\n",
    "            solution.append(x)\n",
    "            covered |= set(x)\n",
    "\n",
    "    logging.info(\n",
    "        f\"Greedy solution for N={N}: w={sum(len(_) for _ in solution)} (bloat={(sum(len(_) for _ in solution)-N)/N*100:.0f}%)\"\n",
    "    )\n",
    "    logging.debug(f\"{solution}\")"
   ]
  },
  {
   "cell_type": "markdown",
   "metadata": {},
   "source": [
    "Greedy solution log"
   ]
  },
  {
   "cell_type": "code",
   "execution_count": 13,
   "metadata": {},
   "outputs": [
    {
     "name": "stderr",
     "output_type": "stream",
     "text": [
      "INFO:root:Greedy solution for N=5: w=5 (bloat=0%)\n",
      "INFO:root:Greedy solution for N=10: w=13 (bloat=30%)\n",
      "INFO:root:Greedy solution for N=20: w=46 (bloat=130%)\n",
      "INFO:root:Greedy solution for N=100: w=332 (bloat=232%)\n",
      "INFO:root:Greedy solution for N=500: w=2162 (bloat=332%)\n",
      "INFO:root:Greedy solution for N=1000: w=4652 (bloat=365%)\n"
     ]
    }
   ],
   "source": [
    "logging.getLogger().setLevel(logging.INFO)\n",
    "for N in N_VALUES:\n",
    "    greedy(N)"
   ]
  },
  {
   "cell_type": "markdown",
   "metadata": {},
   "source": [
    "Proposed solution"
   ]
  },
  {
   "cell_type": "code",
   "execution_count": 14,
   "metadata": {},
   "outputs": [
    {
     "name": "stderr",
     "output_type": "stream",
     "text": [
      "INFO:root:Proposed solution for N=5: w=5 (bloat=0%)\n",
      "INFO:root:Proposed solution for N=10: w=14 (bloat=40%)\n",
      "INFO:root:Proposed solution for N=20: w=36 (bloat=80%)\n",
      "INFO:root:Proposed solution for N=100: w=340 (bloat=240%)\n",
      "INFO:root:Proposed solution for N=500: w=2187 (bloat=337%)\n",
      "INFO:root:Proposed solution for N=1000: w=4699 (bloat=370%)\n"
     ]
    }
   ],
   "source": [
    "def proposed_solution(N):\n",
    "    goal = set(range(N))\n",
    "    covered = set()\n",
    "    solution = list()\n",
    "    all_lists = sorted(problem(N, seed=42), key=lambda l: len(l))\n",
    "    first_iter = True\n",
    "    while goal != covered:\n",
    "        if first_iter:\n",
    "            x = x = all_lists.pop()\n",
    "            first_iter = False\n",
    "        else:\n",
    "            x = all_lists.pop(0)\n",
    "        if not set(x) < covered:\n",
    "            solution.append(x)\n",
    "            covered |= set(x)\n",
    "\n",
    "    logging.info(\n",
    "            f\"Proposed solution for N={N}: w={sum(len(_) for _ in solution)} (bloat={(sum(len(_) for _ in solution)-N)/N*100:.0f}%)\")\n",
    "\n",
    "\n",
    "logging.getLogger().setLevel(logging.INFO)\n",
    "for N in N_VALUES:\n",
    "    proposed_solution(N)"
   ]
  }
 ],
 "metadata": {
  "kernelspec": {
   "display_name": "Python 3.10.4 64-bit",
   "language": "python",
   "name": "python3"
  },
  "language_info": {
   "codemirror_mode": {
    "name": "ipython",
    "version": 3
   },
   "file_extension": ".py",
   "mimetype": "text/x-python",
   "name": "python",
   "nbconvert_exporter": "python",
   "pygments_lexer": "ipython3",
   "version": "3.10.4"
  },
  "orig_nbformat": 4,
  "vscode": {
   "interpreter": {
    "hash": "aee8b7b246df8f9039afb4144a1f6fd8d2ca17a180786b69acc140d282b71a49"
   }
  }
 },
 "nbformat": 4,
 "nbformat_minor": 2
}
